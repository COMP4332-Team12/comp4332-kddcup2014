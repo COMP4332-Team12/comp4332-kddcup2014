{
 "cells": [
  {
   "cell_type": "code",
   "execution_count": 1,
   "metadata": {
    "collapsed": true
   },
   "outputs": [],
   "source": [
    "import itertools\n",
    "import os\n",
    "import re\n",
    "import math\n",
    "import random\n",
    "import numpy as np\n",
    "import matplotlib.pyplot as plt\n",
    "import csv\n",
    "import pandas as pd\n",
    "from sklearn.preprocessing import LabelEncoder, OneHotEncoder\n",
    "\n",
    "from sklearn import metrics\n",
    "from sklearn.linear_model import SGDClassifier\n",
    "\n",
    "from sklearn.ensemble import GradientBoostingRegressor, GradientBoostingClassifier,     RandomForestRegressor, RandomForestClassifier\n",
    "from datetime import date"
   ]
  },
  {
   "cell_type": "code",
   "execution_count": 2,
   "metadata": {
    "collapsed": false
   },
   "outputs": [
    {
     "name": "stdout",
     "output_type": "stream",
     "text": [
      "loading the data...\n",
      "complete..\n"
     ]
    }
   ],
   "source": [
    "print('loading the data...')\n",
    "df = pd.read_csv('df_data.csv')\n",
    "donation = pd.read_csv('donation_data.csv')\n",
    "resource = pd.read_csv('resource_data.csv')\n",
    "essay = pd.read_csv('essay_data.csv')\n",
    "print('complete..')\n",
    "\n",
    "# fisrt partation data into several parts and train and generate based on those pieses\n",
    "#part_1 = example[(example['date_posted']<\"2011-01-01\")&(example['date_posted']>=\"2010-01-01\")]\n",
    "#part_2 = example[(example['date_posted']<\"2012-01-01\")&(example['date_posted']>=\"2011-01-01\")]\n",
    "#part_3 = example[(example['date_posted']<\"2013-01-01\")&(example['date_posted']>=\"2012-01-01\")]\n",
    "#part_4 = example[(example['date_posted']<\"2014-01-01\")&(example['date_posted']>=\"2013-01-01\")]"
   ]
  },
  {
   "cell_type": "code",
   "execution_count": 3,
   "metadata": {
    "collapsed": false
   },
   "outputs": [
    {
     "name": "stdout",
     "output_type": "stream",
     "text": [
      "(467620, 101)\n",
      "(467620, 10)\n",
      "(467620, 13)\n",
      "(467620, 6)\n"
     ]
    }
   ],
   "source": [
    "print(df.shape)\n",
    "print(donation.shape)\n",
    "print(resource.shape)\n",
    "print(essay.shape)"
   ]
  },
  {
   "cell_type": "code",
   "execution_count": 4,
   "metadata": {
    "collapsed": false
   },
   "outputs": [
    {
     "name": "stdout",
     "output_type": "stream",
     "text": [
      "Index(['projectid', 'teacher_acctid', 'schoolid', 'school_ncesid',\n",
      "       'school_latitude', 'school_longitude', 'school_city', 'school_state',\n",
      "       'school_zip', 'school_metro', 'school_district', 'school_county',\n",
      "       'school_charter', 'school_magnet', 'school_year_round', 'school_nlns',\n",
      "       'school_kipp', 'school_charter_ready_promise', 'teacher_prefix',\n",
      "       'teacher_teach_for_america', 'teacher_ny_teaching_fellow',\n",
      "       'primary_focus_subject', 'primary_focus_area',\n",
      "       'secondary_focus_subject', 'secondary_focus_area', 'resource_type',\n",
      "       'poverty_level', 'grade_level', 'fulfillment_labor_materials',\n",
      "       'total_price_excluding_optional_support',\n",
      "       'total_price_including_optional_support', 'students_reached',\n",
      "       'eligible_double_your_impact_match', 'eligible_almost_home_match',\n",
      "       'date_posted', 'is_exciting', 'at_least_1_teacher_referred_donor',\n",
      "       'fully_funded', 'at_least_1_green_donation', 'great_chat',\n",
      "       'three_or_more_non_teacher_referred_donors',\n",
      "       'one_non_teacher_referred_donor_giving_100_plus',\n",
      "       'donation_from_thoughtful_donor', 'great_messages_proportion',\n",
      "       'teacher_referred_count', 'non_teacher_referred_count', 'cat',\n",
      "       'one_or_more_required', 'year', 'month', 'day',\n",
      "       'teacher_acctid_is_exciting',\n",
      "       'teacher_acctid_at_least_1_teacher_referred_donor',\n",
      "       'teacher_acctid_fully_funded',\n",
      "       'teacher_acctid_at_least_1_green_donation', 'teacher_acctid_great_chat',\n",
      "       'teacher_acctid_one_or_more_required', 'teacher_acctid_count',\n",
      "       'schoolid_is_exciting', 'schoolid_at_least_1_teacher_referred_donor',\n",
      "       'schoolid_fully_funded', 'schoolid_at_least_1_green_donation',\n",
      "       'schoolid_great_chat', 'schoolid_one_or_more_required',\n",
      "       'schoolid_count', 'school_city_is_exciting',\n",
      "       'school_city_at_least_1_teacher_referred_donor',\n",
      "       'school_city_fully_funded', 'school_city_at_least_1_green_donation',\n",
      "       'school_city_great_chat', 'school_city_one_or_more_required',\n",
      "       'school_city_count', 'school_state_is_exciting',\n",
      "       'school_state_at_least_1_teacher_referred_donor',\n",
      "       'school_state_fully_funded', 'school_state_at_least_1_green_donation',\n",
      "       'school_state_great_chat', 'school_state_one_or_more_required',\n",
      "       'school_state_count', 'school_district_is_exciting',\n",
      "       'school_district_at_least_1_teacher_referred_donor',\n",
      "       'school_district_fully_funded',\n",
      "       'school_district_at_least_1_green_donation',\n",
      "       'school_district_great_chat', 'school_district_one_or_more_required',\n",
      "       'school_district_count', 'school_county_is_exciting',\n",
      "       'school_county_at_least_1_teacher_referred_donor',\n",
      "       'school_county_fully_funded', 'school_county_at_least_1_green_donation',\n",
      "       'school_county_great_chat', 'school_county_one_or_more_required',\n",
      "       'school_county_count', 'school_zip_is_exciting',\n",
      "       'school_zip_at_least_1_teacher_referred_donor',\n",
      "       'school_zip_fully_funded', 'school_zip_at_least_1_green_donation',\n",
      "       'school_zip_great_chat', 'school_zip_one_or_more_required',\n",
      "       'school_zip_count'],\n",
      "      dtype='object')\n",
      "Index(['projectid', 'teacher_acctid_is_teacher_acct_donor',\n",
      "       'teacher_acctid_donor_donation_total_donor',\n",
      "       'teacher_acctid_count_donor', 'schoolid_is_teacher_acct_donor',\n",
      "       'schoolid_donation_total_donor', 'schoolid_count_donor'],\n",
      "      dtype='object')\n",
      "Index(['projectid', 'students_reached', 'cost', 'item_quantity', 'avg_cost',\n",
      "       'Technology_cost', 'Supplies_cost', 'Other_cost', 'Books_cost',\n",
      "       'Trips_cost', 'Visitors_cost', 'price_per_student'],\n",
      "      dtype='object')\n",
      "Index(['projectid', 'teacher_acctid', 'schoolid', 'essay_length',\n",
      "       'title_length'],\n",
      "      dtype='object')\n"
     ]
    },
    {
     "data": {
      "text/html": [
       "<div>\n",
       "<table border=\"1\" class=\"dataframe\">\n",
       "  <thead>\n",
       "    <tr style=\"text-align: right;\">\n",
       "      <th></th>\n",
       "      <th>projectid</th>\n",
       "      <th>teacher_acctid</th>\n",
       "      <th>schoolid</th>\n",
       "      <th>school_ncesid</th>\n",
       "      <th>school_latitude</th>\n",
       "      <th>school_longitude</th>\n",
       "      <th>school_city</th>\n",
       "      <th>school_state</th>\n",
       "      <th>school_zip</th>\n",
       "      <th>school_metro</th>\n",
       "      <th>...</th>\n",
       "      <th>school_county_great_chat</th>\n",
       "      <th>school_county_one_or_more_required</th>\n",
       "      <th>school_county_count</th>\n",
       "      <th>school_zip_is_exciting</th>\n",
       "      <th>school_zip_at_least_1_teacher_referred_donor</th>\n",
       "      <th>school_zip_fully_funded</th>\n",
       "      <th>school_zip_at_least_1_green_donation</th>\n",
       "      <th>school_zip_great_chat</th>\n",
       "      <th>school_zip_one_or_more_required</th>\n",
       "      <th>school_zip_count</th>\n",
       "    </tr>\n",
       "  </thead>\n",
       "  <tbody>\n",
       "    <tr>\n",
       "      <th>0</th>\n",
       "      <td>00001ccc0e81598c4bd86bacb94d7acb</td>\n",
       "      <td>96963218e74e10c3764a5cfb153e6fea</td>\n",
       "      <td>9f3f9f2c2da7edda5648ccd10554ed8c</td>\n",
       "      <td>1.709930e+11</td>\n",
       "      <td>41.807654</td>\n",
       "      <td>-87.673257</td>\n",
       "      <td>Chicago</td>\n",
       "      <td>IL</td>\n",
       "      <td>60609.0</td>\n",
       "      <td>urban</td>\n",
       "      <td>...</td>\n",
       "      <td>0.371600</td>\n",
       "      <td>0.699309</td>\n",
       "      <td>15694</td>\n",
       "      <td>0.085692</td>\n",
       "      <td>0.274297</td>\n",
       "      <td>0.673771</td>\n",
       "      <td>0.657226</td>\n",
       "      <td>0.295037</td>\n",
       "      <td>0.702203</td>\n",
       "      <td>769</td>\n",
       "    </tr>\n",
       "    <tr>\n",
       "      <th>1</th>\n",
       "      <td>00002bff514104264a6b798356fdd893</td>\n",
       "      <td>3414541eb63108700b188648f866f483</td>\n",
       "      <td>cbaae3265eda78d330cb8ab1a9217071</td>\n",
       "      <td>6.032700e+10</td>\n",
       "      <td>35.203447</td>\n",
       "      <td>-118.840956</td>\n",
       "      <td>Arvin</td>\n",
       "      <td>CA</td>\n",
       "      <td>93203.0</td>\n",
       "      <td>NaN</td>\n",
       "      <td>...</td>\n",
       "      <td>0.203624</td>\n",
       "      <td>0.720264</td>\n",
       "      <td>4187</td>\n",
       "      <td>0.017430</td>\n",
       "      <td>0.086567</td>\n",
       "      <td>0.511819</td>\n",
       "      <td>0.360627</td>\n",
       "      <td>0.207809</td>\n",
       "      <td>0.538079</td>\n",
       "      <td>148</td>\n",
       "    </tr>\n",
       "    <tr>\n",
       "      <th>2</th>\n",
       "      <td>00002d691c05c51a5fdfbb2baef0ba25</td>\n",
       "      <td>7ad6abc974dd8b62773f79f6cbed48d5</td>\n",
       "      <td>56502bae9e97bab5eb54f9001878f469</td>\n",
       "      <td>6.029700e+10</td>\n",
       "      <td>34.137997</td>\n",
       "      <td>-118.062795</td>\n",
       "      <td>Arcadia</td>\n",
       "      <td>CA</td>\n",
       "      <td>91007.0</td>\n",
       "      <td>urban</td>\n",
       "      <td>...</td>\n",
       "      <td>0.219667</td>\n",
       "      <td>0.697394</td>\n",
       "      <td>41797</td>\n",
       "      <td>0.034273</td>\n",
       "      <td>0.121711</td>\n",
       "      <td>0.539425</td>\n",
       "      <td>0.499051</td>\n",
       "      <td>0.356082</td>\n",
       "      <td>0.637111</td>\n",
       "      <td>12</td>\n",
       "    </tr>\n",
       "    <tr>\n",
       "      <th>3</th>\n",
       "      <td>0000b38bbc7252972f7984848cf58098</td>\n",
       "      <td>e1aa1ae5301d0cda860c4d9c89c24919</td>\n",
       "      <td>30fcfca739b17be54ce3f1ee46980340</td>\n",
       "      <td>2.311400e+11</td>\n",
       "      <td>44.437717</td>\n",
       "      <td>-70.201292</td>\n",
       "      <td>Livermore</td>\n",
       "      <td>ME</td>\n",
       "      <td>4253.0</td>\n",
       "      <td>rural</td>\n",
       "      <td>...</td>\n",
       "      <td>0.438209</td>\n",
       "      <td>0.647539</td>\n",
       "      <td>498</td>\n",
       "      <td>0.053858</td>\n",
       "      <td>0.262688</td>\n",
       "      <td>0.776239</td>\n",
       "      <td>0.641367</td>\n",
       "      <td>0.273844</td>\n",
       "      <td>0.715460</td>\n",
       "      <td>4</td>\n",
       "    </tr>\n",
       "    <tr>\n",
       "      <th>4</th>\n",
       "      <td>0000ee613c92ddc5298bf63142996a5c</td>\n",
       "      <td>e0c0a0214d3c2cfdc0ab6639bc3c5342</td>\n",
       "      <td>38bb0d62aa613c2f933de56c9df855b7</td>\n",
       "      <td>5.101260e+11</td>\n",
       "      <td>38.851982</td>\n",
       "      <td>-77.145287</td>\n",
       "      <td>Falls Church</td>\n",
       "      <td>VA</td>\n",
       "      <td>22041.0</td>\n",
       "      <td>suburban</td>\n",
       "      <td>...</td>\n",
       "      <td>0.379813</td>\n",
       "      <td>0.699439</td>\n",
       "      <td>792</td>\n",
       "      <td>0.129449</td>\n",
       "      <td>0.333712</td>\n",
       "      <td>0.685081</td>\n",
       "      <td>0.619970</td>\n",
       "      <td>0.339097</td>\n",
       "      <td>0.655739</td>\n",
       "      <td>19</td>\n",
       "    </tr>\n",
       "  </tbody>\n",
       "</table>\n",
       "<p>5 rows × 100 columns</p>\n",
       "</div>"
      ],
      "text/plain": [
       "                          projectid                    teacher_acctid  \\\n",
       "0  00001ccc0e81598c4bd86bacb94d7acb  96963218e74e10c3764a5cfb153e6fea   \n",
       "1  00002bff514104264a6b798356fdd893  3414541eb63108700b188648f866f483   \n",
       "2  00002d691c05c51a5fdfbb2baef0ba25  7ad6abc974dd8b62773f79f6cbed48d5   \n",
       "3  0000b38bbc7252972f7984848cf58098  e1aa1ae5301d0cda860c4d9c89c24919   \n",
       "4  0000ee613c92ddc5298bf63142996a5c  e0c0a0214d3c2cfdc0ab6639bc3c5342   \n",
       "\n",
       "                           schoolid  school_ncesid  school_latitude  \\\n",
       "0  9f3f9f2c2da7edda5648ccd10554ed8c   1.709930e+11        41.807654   \n",
       "1  cbaae3265eda78d330cb8ab1a9217071   6.032700e+10        35.203447   \n",
       "2  56502bae9e97bab5eb54f9001878f469   6.029700e+10        34.137997   \n",
       "3  30fcfca739b17be54ce3f1ee46980340   2.311400e+11        44.437717   \n",
       "4  38bb0d62aa613c2f933de56c9df855b7   5.101260e+11        38.851982   \n",
       "\n",
       "   school_longitude   school_city school_state  school_zip school_metro  \\\n",
       "0        -87.673257       Chicago           IL     60609.0        urban   \n",
       "1       -118.840956         Arvin           CA     93203.0          NaN   \n",
       "2       -118.062795       Arcadia           CA     91007.0        urban   \n",
       "3        -70.201292     Livermore           ME      4253.0        rural   \n",
       "4        -77.145287  Falls Church           VA     22041.0     suburban   \n",
       "\n",
       "        ...        school_county_great_chat  \\\n",
       "0       ...                        0.371600   \n",
       "1       ...                        0.203624   \n",
       "2       ...                        0.219667   \n",
       "3       ...                        0.438209   \n",
       "4       ...                        0.379813   \n",
       "\n",
       "  school_county_one_or_more_required school_county_count  \\\n",
       "0                           0.699309               15694   \n",
       "1                           0.720264                4187   \n",
       "2                           0.697394               41797   \n",
       "3                           0.647539                 498   \n",
       "4                           0.699439                 792   \n",
       "\n",
       "  school_zip_is_exciting school_zip_at_least_1_teacher_referred_donor  \\\n",
       "0               0.085692                                     0.274297   \n",
       "1               0.017430                                     0.086567   \n",
       "2               0.034273                                     0.121711   \n",
       "3               0.053858                                     0.262688   \n",
       "4               0.129449                                     0.333712   \n",
       "\n",
       "  school_zip_fully_funded school_zip_at_least_1_green_donation  \\\n",
       "0                0.673771                             0.657226   \n",
       "1                0.511819                             0.360627   \n",
       "2                0.539425                             0.499051   \n",
       "3                0.776239                             0.641367   \n",
       "4                0.685081                             0.619970   \n",
       "\n",
       "  school_zip_great_chat school_zip_one_or_more_required school_zip_count  \n",
       "0              0.295037                        0.702203              769  \n",
       "1              0.207809                        0.538079              148  \n",
       "2              0.356082                        0.637111               12  \n",
       "3              0.273844                        0.715460                4  \n",
       "4              0.339097                        0.655739               19  \n",
       "\n",
       "[5 rows x 100 columns]"
      ]
     },
     "execution_count": 4,
     "metadata": {},
     "output_type": "execute_result"
    }
   ],
   "source": [
    "\n",
    "df.drop('Unnamed: 0',axis=1,inplace=True)\n",
    "donation.drop('Unnamed: 0',axis=1,inplace=True)\n",
    "donation.drop('schoolid',axis=1,inplace=True)\n",
    "donation.drop('teacher_acctid',axis=1,inplace=True)\n",
    "resource.drop('Unnamed: 0',axis=1,inplace=True)\n",
    "essay.drop('Unnamed: 0',axis=1,inplace=True)\n",
    "print(df.columns)\n",
    "print(donation.columns)\n",
    "print(resource.columns)\n",
    "print(essay.columns)\n",
    "df.head()"
   ]
  },
  {
   "cell_type": "code",
   "execution_count": 5,
   "metadata": {
    "collapsed": false
   },
   "outputs": [
    {
     "name": "stdout",
     "output_type": "stream",
     "text": [
      "(467620, 106)\n"
     ]
    }
   ],
   "source": [
    "\n",
    "essay.drop('schoolid',axis=1,inplace=True)\n",
    "essay.drop('teacher_acctid',axis=1,inplace=True)\n",
    "data = df\n",
    "data = pd.merge(df,donation,how='left',on='projectid')\n",
    "print(data.shape)"
   ]
  },
  {
   "cell_type": "code",
   "execution_count": 6,
   "metadata": {
    "collapsed": false
   },
   "outputs": [],
   "source": [
    "resource.drop('students_reached',axis=1,inplace=True)\n",
    "data = pd.merge(data,resource,how='left',on='projectid')\n",
    "data = pd.merge(data,essay,how='left',on='projectid')"
   ]
  },
  {
   "cell_type": "code",
   "execution_count": 7,
   "metadata": {
    "collapsed": false
   },
   "outputs": [
    {
     "name": "stdout",
     "output_type": "stream",
     "text": [
      "2010-01-01 00:00:00\n"
     ]
    }
   ],
   "source": [
    "data['date_posted'] = pd.to_datetime(data['date_posted'])\n",
    "ref_date = \"2010-01-01\"\n",
    "ref_date = pd.to_datetime(ref_date)\n",
    "print(ref_date)\n",
    "data['daysbet'] = data['date_posted'] - ref_date\n",
    "data['daysbet'] = data['daysbet'].dt.days\n",
    "data['monthbet'] = data['date_posted'] - ref_date\n",
    "data['monthbet'] = data['monthbet'].dt.days\n",
    "data['monthbet'] = data['monthbet']/30"
   ]
  },
  {
   "cell_type": "code",
   "execution_count": 8,
   "metadata": {
    "collapsed": false
   },
   "outputs": [
    {
     "name": "stdout",
     "output_type": "stream",
     "text": [
      "(467620, 120)\n"
     ]
    },
    {
     "data": {
      "text/html": [
       "<div>\n",
       "<table border=\"1\" class=\"dataframe\">\n",
       "  <thead>\n",
       "    <tr style=\"text-align: right;\">\n",
       "      <th></th>\n",
       "      <th>projectid</th>\n",
       "      <th>teacher_acctid</th>\n",
       "      <th>schoolid</th>\n",
       "      <th>school_ncesid</th>\n",
       "      <th>school_latitude</th>\n",
       "      <th>school_longitude</th>\n",
       "      <th>school_city</th>\n",
       "      <th>school_state</th>\n",
       "      <th>school_zip</th>\n",
       "      <th>school_metro</th>\n",
       "      <th>...</th>\n",
       "      <th>Supplies_cost</th>\n",
       "      <th>Other_cost</th>\n",
       "      <th>Books_cost</th>\n",
       "      <th>Trips_cost</th>\n",
       "      <th>Visitors_cost</th>\n",
       "      <th>price_per_student</th>\n",
       "      <th>essay_length</th>\n",
       "      <th>title_length</th>\n",
       "      <th>daysbet</th>\n",
       "      <th>monthbet</th>\n",
       "    </tr>\n",
       "  </thead>\n",
       "  <tbody>\n",
       "    <tr>\n",
       "      <th>0</th>\n",
       "      <td>00001ccc0e81598c4bd86bacb94d7acb</td>\n",
       "      <td>96963218e74e10c3764a5cfb153e6fea</td>\n",
       "      <td>9f3f9f2c2da7edda5648ccd10554ed8c</td>\n",
       "      <td>1.709930e+11</td>\n",
       "      <td>41.807654</td>\n",
       "      <td>-87.673257</td>\n",
       "      <td>Chicago</td>\n",
       "      <td>IL</td>\n",
       "      <td>60609.0</td>\n",
       "      <td>urban</td>\n",
       "      <td>...</td>\n",
       "      <td>1225.44</td>\n",
       "      <td>0.0</td>\n",
       "      <td>0.0</td>\n",
       "      <td>0.0</td>\n",
       "      <td>0.0</td>\n",
       "      <td>39.530323</td>\n",
       "      <td>1453</td>\n",
       "      <td>25</td>\n",
       "      <td>1199</td>\n",
       "      <td>39.966667</td>\n",
       "    </tr>\n",
       "    <tr>\n",
       "      <th>1</th>\n",
       "      <td>00002bff514104264a6b798356fdd893</td>\n",
       "      <td>3414541eb63108700b188648f866f483</td>\n",
       "      <td>cbaae3265eda78d330cb8ab1a9217071</td>\n",
       "      <td>6.032700e+10</td>\n",
       "      <td>35.203447</td>\n",
       "      <td>-118.840956</td>\n",
       "      <td>Arvin</td>\n",
       "      <td>CA</td>\n",
       "      <td>93203.0</td>\n",
       "      <td>NaN</td>\n",
       "      <td>...</td>\n",
       "      <td>399.74</td>\n",
       "      <td>0.0</td>\n",
       "      <td>0.0</td>\n",
       "      <td>0.0</td>\n",
       "      <td>0.0</td>\n",
       "      <td>19.987000</td>\n",
       "      <td>1698</td>\n",
       "      <td>25</td>\n",
       "      <td>250</td>\n",
       "      <td>8.333333</td>\n",
       "    </tr>\n",
       "    <tr>\n",
       "      <th>2</th>\n",
       "      <td>00002d691c05c51a5fdfbb2baef0ba25</td>\n",
       "      <td>7ad6abc974dd8b62773f79f6cbed48d5</td>\n",
       "      <td>56502bae9e97bab5eb54f9001878f469</td>\n",
       "      <td>6.029700e+10</td>\n",
       "      <td>34.137997</td>\n",
       "      <td>-118.062795</td>\n",
       "      <td>Arcadia</td>\n",
       "      <td>CA</td>\n",
       "      <td>91007.0</td>\n",
       "      <td>urban</td>\n",
       "      <td>...</td>\n",
       "      <td>0.00</td>\n",
       "      <td>0.0</td>\n",
       "      <td>774.8</td>\n",
       "      <td>0.0</td>\n",
       "      <td>0.0</td>\n",
       "      <td>3.099200</td>\n",
       "      <td>1273</td>\n",
       "      <td>18</td>\n",
       "      <td>343</td>\n",
       "      <td>11.433333</td>\n",
       "    </tr>\n",
       "    <tr>\n",
       "      <th>3</th>\n",
       "      <td>0000b38bbc7252972f7984848cf58098</td>\n",
       "      <td>e1aa1ae5301d0cda860c4d9c89c24919</td>\n",
       "      <td>30fcfca739b17be54ce3f1ee46980340</td>\n",
       "      <td>2.311400e+11</td>\n",
       "      <td>44.437717</td>\n",
       "      <td>-70.201292</td>\n",
       "      <td>Livermore</td>\n",
       "      <td>ME</td>\n",
       "      <td>4253.0</td>\n",
       "      <td>rural</td>\n",
       "      <td>...</td>\n",
       "      <td>0.00</td>\n",
       "      <td>0.0</td>\n",
       "      <td>0.0</td>\n",
       "      <td>0.0</td>\n",
       "      <td>0.0</td>\n",
       "      <td>12.347500</td>\n",
       "      <td>2036</td>\n",
       "      <td>42</td>\n",
       "      <td>1365</td>\n",
       "      <td>45.500000</td>\n",
       "    </tr>\n",
       "    <tr>\n",
       "      <th>4</th>\n",
       "      <td>0000ee613c92ddc5298bf63142996a5c</td>\n",
       "      <td>e0c0a0214d3c2cfdc0ab6639bc3c5342</td>\n",
       "      <td>38bb0d62aa613c2f933de56c9df855b7</td>\n",
       "      <td>5.101260e+11</td>\n",
       "      <td>38.851982</td>\n",
       "      <td>-77.145287</td>\n",
       "      <td>Falls Church</td>\n",
       "      <td>VA</td>\n",
       "      <td>22041.0</td>\n",
       "      <td>suburban</td>\n",
       "      <td>...</td>\n",
       "      <td>0.00</td>\n",
       "      <td>0.0</td>\n",
       "      <td>0.0</td>\n",
       "      <td>0.0</td>\n",
       "      <td>0.0</td>\n",
       "      <td>17.778421</td>\n",
       "      <td>2375</td>\n",
       "      <td>47</td>\n",
       "      <td>1440</td>\n",
       "      <td>48.000000</td>\n",
       "    </tr>\n",
       "  </tbody>\n",
       "</table>\n",
       "<p>5 rows × 120 columns</p>\n",
       "</div>"
      ],
      "text/plain": [
       "                          projectid                    teacher_acctid  \\\n",
       "0  00001ccc0e81598c4bd86bacb94d7acb  96963218e74e10c3764a5cfb153e6fea   \n",
       "1  00002bff514104264a6b798356fdd893  3414541eb63108700b188648f866f483   \n",
       "2  00002d691c05c51a5fdfbb2baef0ba25  7ad6abc974dd8b62773f79f6cbed48d5   \n",
       "3  0000b38bbc7252972f7984848cf58098  e1aa1ae5301d0cda860c4d9c89c24919   \n",
       "4  0000ee613c92ddc5298bf63142996a5c  e0c0a0214d3c2cfdc0ab6639bc3c5342   \n",
       "\n",
       "                           schoolid  school_ncesid  school_latitude  \\\n",
       "0  9f3f9f2c2da7edda5648ccd10554ed8c   1.709930e+11        41.807654   \n",
       "1  cbaae3265eda78d330cb8ab1a9217071   6.032700e+10        35.203447   \n",
       "2  56502bae9e97bab5eb54f9001878f469   6.029700e+10        34.137997   \n",
       "3  30fcfca739b17be54ce3f1ee46980340   2.311400e+11        44.437717   \n",
       "4  38bb0d62aa613c2f933de56c9df855b7   5.101260e+11        38.851982   \n",
       "\n",
       "   school_longitude   school_city school_state  school_zip school_metro  \\\n",
       "0        -87.673257       Chicago           IL     60609.0        urban   \n",
       "1       -118.840956         Arvin           CA     93203.0          NaN   \n",
       "2       -118.062795       Arcadia           CA     91007.0        urban   \n",
       "3        -70.201292     Livermore           ME      4253.0        rural   \n",
       "4        -77.145287  Falls Church           VA     22041.0     suburban   \n",
       "\n",
       "     ...     Supplies_cost Other_cost Books_cost Trips_cost Visitors_cost  \\\n",
       "0    ...           1225.44        0.0        0.0        0.0           0.0   \n",
       "1    ...            399.74        0.0        0.0        0.0           0.0   \n",
       "2    ...              0.00        0.0      774.8        0.0           0.0   \n",
       "3    ...              0.00        0.0        0.0        0.0           0.0   \n",
       "4    ...              0.00        0.0        0.0        0.0           0.0   \n",
       "\n",
       "  price_per_student essay_length title_length daysbet   monthbet  \n",
       "0         39.530323         1453           25    1199  39.966667  \n",
       "1         19.987000         1698           25     250   8.333333  \n",
       "2          3.099200         1273           18     343  11.433333  \n",
       "3         12.347500         2036           42    1365  45.500000  \n",
       "4         17.778421         2375           47    1440  48.000000  \n",
       "\n",
       "[5 rows x 120 columns]"
      ]
     },
     "execution_count": 8,
     "metadata": {},
     "output_type": "execute_result"
    }
   ],
   "source": [
    "print(data.shape)\n",
    "data.head()"
   ]
  },
  {
   "cell_type": "code",
   "execution_count": null,
   "metadata": {
    "collapsed": true
   },
   "outputs": [],
   "source": []
  },
  {
   "cell_type": "code",
   "execution_count": 9,
   "metadata": {
    "collapsed": false
   },
   "outputs": [
    {
     "name": "stderr",
     "output_type": "stream",
     "text": [
      "/Users/hang/anaconda/lib/python3.5/site-packages/ipykernel/__main__.py:18: FutureWarning: using '-' to provide set differences with Indexes is deprecated, use .difference()\n",
      "/Users/hang/anaconda/lib/python3.5/site-packages/ipykernel/__main__.py:20: FutureWarning: using '-' to provide set differences with Indexes is deprecated, use .difference()\n"
     ]
    }
   ],
   "source": [
    "# start to calculate history rate for different attributes \n",
    "id_columns = ['teacher_acctid','schoolid']\n",
    "location_columns = ['school_city','school_state','school_district','school_county','school_zip']\n",
    "all_columns = id_columns + location_columns\n",
    "one_or_more_required = ['three_or_more_non_teacher_referred_donors','one_non_teacher_referred_donor_giving_100_plus',\n",
    "                       'donation_from_thoughtful_donor']\n",
    "requirements_columns = ['projectid','date_posted','is_exciting','at_least_1_teacher_referred_donor','fully_funded','at_least_1_green_donation','great_chat','one_or_more_required']\n",
    "require_only_columns = ['is_exciting','at_least_1_teacher_referred_donor','fully_funded','at_least_1_green_donation','great_chat','one_or_more_required']\n",
    "\n",
    "date_columns = ['day','month','year']\n",
    "\n",
    "projects = pd.read_csv('./data/projects.csv')\n",
    "sub_primary_requirements = ['great_messages_proportion','teacher_referred_count','non_teacher_referred_count'] \n",
    "projects_numeric_columns = ['school_latitude','school_longitude','fulfillment_labor_materials',\n",
    "                           'total_price_excluding_optional_support',\n",
    "                           'total_price_including_optional_support','grade_level','poverty_level','students_reached']\n",
    "projects_id_columns =['projectid','teacher_acctid','schoolid','school_ncesid']\n",
    "projects_categorial_columns = projects.columns - projects_numeric_columns - projects_id_columns - ['date_posted']\n",
    "\n",
    "feature_columns = data.columns - data.columns[0:4] - requirements_columns-['cat'] - one_or_more_required-sub_primary_requirements"
   ]
  },
  {
   "cell_type": "code",
   "execution_count": 10,
   "metadata": {
    "collapsed": false
   },
   "outputs": [],
   "source": [
    "data.fillna(method='pad',inplace=True)"
   ]
  },
  {
   "cell_type": "code",
   "execution_count": 11,
   "metadata": {
    "collapsed": false
   },
   "outputs": [
    {
     "data": {
      "text/plain": [
       "(467620, 120)"
      ]
     },
     "execution_count": 11,
     "metadata": {},
     "output_type": "execute_result"
    }
   ],
   "source": []
  },
  {
   "cell_type": "code",
   "execution_count": 12,
   "metadata": {
    "collapsed": false
   },
   "outputs": [
    {
     "data": {
      "text/html": [
       "<div>\n",
       "<table border=\"1\" class=\"dataframe\">\n",
       "  <thead>\n",
       "    <tr style=\"text-align: right;\">\n",
       "      <th></th>\n",
       "      <th>projectid</th>\n",
       "      <th>teacher_acctid</th>\n",
       "      <th>schoolid</th>\n",
       "      <th>school_ncesid</th>\n",
       "      <th>school_latitude</th>\n",
       "      <th>school_longitude</th>\n",
       "      <th>school_city</th>\n",
       "      <th>school_state</th>\n",
       "      <th>school_zip</th>\n",
       "      <th>school_metro</th>\n",
       "      <th>...</th>\n",
       "      <th>Supplies_cost</th>\n",
       "      <th>Other_cost</th>\n",
       "      <th>Books_cost</th>\n",
       "      <th>Trips_cost</th>\n",
       "      <th>Visitors_cost</th>\n",
       "      <th>price_per_student</th>\n",
       "      <th>essay_length</th>\n",
       "      <th>title_length</th>\n",
       "      <th>daysbet</th>\n",
       "      <th>monthbet</th>\n",
       "    </tr>\n",
       "  </thead>\n",
       "  <tbody>\n",
       "    <tr>\n",
       "      <th>467615</th>\n",
       "      <td>fffeebf4827d745aa36b17c2d38d1966</td>\n",
       "      <td>96c1a33b4f2b832595c3c6a01bc24c05</td>\n",
       "      <td>7bb6b1924a7bd181ab5568b062260966</td>\n",
       "      <td>6.346201e+10</td>\n",
       "      <td>38.654224</td>\n",
       "      <td>-121.308122</td>\n",
       "      <td>2361</td>\n",
       "      <td>4</td>\n",
       "      <td>14731</td>\n",
       "      <td>1</td>\n",
       "      <td>...</td>\n",
       "      <td>0.00</td>\n",
       "      <td>693.45</td>\n",
       "      <td>0.0</td>\n",
       "      <td>0.0</td>\n",
       "      <td>0.0</td>\n",
       "      <td>63.040909</td>\n",
       "      <td>1212</td>\n",
       "      <td>16</td>\n",
       "      <td>1065</td>\n",
       "      <td>35.500000</td>\n",
       "    </tr>\n",
       "    <tr>\n",
       "      <th>467616</th>\n",
       "      <td>ffff2d9c769c8fb5335e949c615425eb</td>\n",
       "      <td>485784e52a4c85ea6783285d09d8aea4</td>\n",
       "      <td>f8e49225a821cc04e1176303e55d89ec</td>\n",
       "      <td>1.602640e+11</td>\n",
       "      <td>42.820593</td>\n",
       "      <td>-112.409161</td>\n",
       "      <td>5964</td>\n",
       "      <td>13</td>\n",
       "      <td>12935</td>\n",
       "      <td>2</td>\n",
       "      <td>...</td>\n",
       "      <td>0.00</td>\n",
       "      <td>0.00</td>\n",
       "      <td>0.0</td>\n",
       "      <td>0.0</td>\n",
       "      <td>0.0</td>\n",
       "      <td>19.999600</td>\n",
       "      <td>2799</td>\n",
       "      <td>21</td>\n",
       "      <td>1157</td>\n",
       "      <td>38.566667</td>\n",
       "    </tr>\n",
       "    <tr>\n",
       "      <th>467617</th>\n",
       "      <td>ffff7266778f71242675416e600b94e1</td>\n",
       "      <td>b9a8f14199e0d8109200ece179281f4f</td>\n",
       "      <td>9655f475102286a53b98ffbabb14013f</td>\n",
       "      <td>3.703780e+11</td>\n",
       "      <td>35.830690</td>\n",
       "      <td>-79.865901</td>\n",
       "      <td>7003</td>\n",
       "      <td>27</td>\n",
       "      <td>3472</td>\n",
       "      <td>0</td>\n",
       "      <td>...</td>\n",
       "      <td>0.00</td>\n",
       "      <td>131.25</td>\n",
       "      <td>0.0</td>\n",
       "      <td>0.0</td>\n",
       "      <td>0.0</td>\n",
       "      <td>5.468750</td>\n",
       "      <td>1074</td>\n",
       "      <td>15</td>\n",
       "      <td>1557</td>\n",
       "      <td>51.900000</td>\n",
       "    </tr>\n",
       "    <tr>\n",
       "      <th>467618</th>\n",
       "      <td>ffff97ed93720407d70a2787475932b0</td>\n",
       "      <td>462270f5d5c212162fcab11afa2623cb</td>\n",
       "      <td>9943fdb43ab5f2b53f27e961caf9e90a</td>\n",
       "      <td>3.600153e+11</td>\n",
       "      <td>40.631962</td>\n",
       "      <td>-73.923897</td>\n",
       "      <td>859</td>\n",
       "      <td>34</td>\n",
       "      <td>1414</td>\n",
       "      <td>2</td>\n",
       "      <td>...</td>\n",
       "      <td>399.02</td>\n",
       "      <td>0.00</td>\n",
       "      <td>0.0</td>\n",
       "      <td>0.0</td>\n",
       "      <td>0.0</td>\n",
       "      <td>15.960800</td>\n",
       "      <td>1327</td>\n",
       "      <td>44</td>\n",
       "      <td>253</td>\n",
       "      <td>8.433333</td>\n",
       "    </tr>\n",
       "    <tr>\n",
       "      <th>467619</th>\n",
       "      <td>ffffac55ee02a49d1abc87ba6fc61135</td>\n",
       "      <td>947066d0af47e0566f334566553dd6a6</td>\n",
       "      <td>103ed937d8d84fdffe8b87a4811f00bf</td>\n",
       "      <td>1.301230e+11</td>\n",
       "      <td>33.514296</td>\n",
       "      <td>-84.345336</td>\n",
       "      <td>3624</td>\n",
       "      <td>10</td>\n",
       "      <td>4324</td>\n",
       "      <td>1</td>\n",
       "      <td>...</td>\n",
       "      <td>0.00</td>\n",
       "      <td>0.00</td>\n",
       "      <td>0.0</td>\n",
       "      <td>0.0</td>\n",
       "      <td>0.0</td>\n",
       "      <td>18.500000</td>\n",
       "      <td>1155</td>\n",
       "      <td>25</td>\n",
       "      <td>526</td>\n",
       "      <td>17.533333</td>\n",
       "    </tr>\n",
       "  </tbody>\n",
       "</table>\n",
       "<p>5 rows × 120 columns</p>\n",
       "</div>"
      ],
      "text/plain": [
       "                               projectid                    teacher_acctid  \\\n",
       "467615  fffeebf4827d745aa36b17c2d38d1966  96c1a33b4f2b832595c3c6a01bc24c05   \n",
       "467616  ffff2d9c769c8fb5335e949c615425eb  485784e52a4c85ea6783285d09d8aea4   \n",
       "467617  ffff7266778f71242675416e600b94e1  b9a8f14199e0d8109200ece179281f4f   \n",
       "467618  ffff97ed93720407d70a2787475932b0  462270f5d5c212162fcab11afa2623cb   \n",
       "467619  ffffac55ee02a49d1abc87ba6fc61135  947066d0af47e0566f334566553dd6a6   \n",
       "\n",
       "                                schoolid  school_ncesid  school_latitude  \\\n",
       "467615  7bb6b1924a7bd181ab5568b062260966   6.346201e+10        38.654224   \n",
       "467616  f8e49225a821cc04e1176303e55d89ec   1.602640e+11        42.820593   \n",
       "467617  9655f475102286a53b98ffbabb14013f   3.703780e+11        35.830690   \n",
       "467618  9943fdb43ab5f2b53f27e961caf9e90a   3.600153e+11        40.631962   \n",
       "467619  103ed937d8d84fdffe8b87a4811f00bf   1.301230e+11        33.514296   \n",
       "\n",
       "        school_longitude  school_city  school_state  school_zip  school_metro  \\\n",
       "467615       -121.308122         2361             4       14731             1   \n",
       "467616       -112.409161         5964            13       12935             2   \n",
       "467617        -79.865901         7003            27        3472             0   \n",
       "467618        -73.923897          859            34        1414             2   \n",
       "467619        -84.345336         3624            10        4324             1   \n",
       "\n",
       "          ...      Supplies_cost  Other_cost  Books_cost  Trips_cost  \\\n",
       "467615    ...               0.00      693.45         0.0         0.0   \n",
       "467616    ...               0.00        0.00         0.0         0.0   \n",
       "467617    ...               0.00      131.25         0.0         0.0   \n",
       "467618    ...             399.02        0.00         0.0         0.0   \n",
       "467619    ...               0.00        0.00         0.0         0.0   \n",
       "\n",
       "        Visitors_cost  price_per_student  essay_length  title_length  daysbet  \\\n",
       "467615            0.0          63.040909          1212            16     1065   \n",
       "467616            0.0          19.999600          2799            21     1157   \n",
       "467617            0.0           5.468750          1074            15     1557   \n",
       "467618            0.0          15.960800          1327            44      253   \n",
       "467619            0.0          18.500000          1155            25      526   \n",
       "\n",
       "         monthbet  \n",
       "467615  35.500000  \n",
       "467616  38.566667  \n",
       "467617  51.900000  \n",
       "467618   8.433333  \n",
       "467619  17.533333  \n",
       "\n",
       "[5 rows x 120 columns]"
      ]
     },
     "execution_count": 12,
     "metadata": {},
     "output_type": "execute_result"
    }
   ],
   "source": [
    "for var in projects_categorial_columns:\n",
    "    le = LabelEncoder()\n",
    "    data[var] = le.fit_transform(data[var])"
   ]
  },
  {
   "cell_type": "code",
   "execution_count": 13,
   "metadata": {
    "collapsed": true
   },
   "outputs": [],
   "source": [
    "# load data\n",
    "train = data[(data['cat']=='train')|(data['cat']=='val')]\n",
    "feature_data = train[feature_columns]\n",
    "X = feature_data\n",
    "names = feature_data.columns.values\n",
    "Y = train['is_exciting']\n",
    "\n",
    "test = data[(data['cat']=='test')]\n",
    "X_test = test[feature_columns]\n",
    "Y_test = test['is_exciting']"
   ]
  },
  {
   "cell_type": "code",
   "execution_count": 16,
   "metadata": {
    "collapsed": false
   },
   "outputs": [
    {
     "name": "stdout",
     "output_type": "stream",
     "text": [
      "start to fit the data\n"
     ]
    },
    {
     "name": "stderr",
     "output_type": "stream",
     "text": [
      "[Parallel(n_jobs=-1)]: Done  42 tasks      | elapsed:   18.2s\n",
      "[Parallel(n_jobs=-1)]: Done 192 tasks      | elapsed:  1.2min\n"
     ]
    },
    {
     "name": "stdout",
     "output_type": "stream",
     "text": [
      "finish fitting\n",
      "Features sorted by their score:\n",
      "[(0.31790000000000002, 'teacher_acctid_is_exciting'), (0.14799999999999999, 'schoolid_is_exciting'), (0.090300000000000005, 'teacher_acctid_at_least_1_teacher_referred_donor'), (0.053199999999999997, 'schoolid_at_least_1_teacher_referred_donor'), (0.052499999999999998, 'teacher_acctid_great_chat'), (0.0465, 'school_zip_is_exciting'), (0.027400000000000001, 'schoolid_great_chat'), (0.0264, 'teacher_acctid_at_least_1_green_donation'), (0.022499999999999999, 'school_district_is_exciting'), (0.019199999999999998, 'school_city_is_exciting'), (0.012999999999999999, 'daysbet'), (0.012699999999999999, 'school_zip_great_chat'), (0.011299999999999999, 'teacher_acctid_fully_funded'), (0.0112, 'monthbet'), (0.010999999999999999, 'school_zip_at_least_1_teacher_referred_donor'), (0.0106, 'schoolid_at_least_1_green_donation'), (0.0097000000000000003, 'teacher_acctid_count'), (0.0091000000000000004, 'teacher_acctid_one_or_more_required'), (0.0085000000000000006, 'teacher_acctid_count_donor'), (0.0076, 'school_district_at_least_1_teacher_referred_donor'), (0.0070000000000000001, 'teacher_acctid_donor_donation_total_donor'), (0.0068999999999999999, 'school_district_great_chat'), (0.0063, 'school_zip_at_least_1_green_donation'), (0.0063, 'school_county_is_exciting'), (0.0050000000000000001, 'schoolid_count'), (0.0047000000000000002, 'teacher_acctid_is_teacher_acct_donor'), (0.0047000000000000002, 'school_city_at_least_1_teacher_referred_donor'), (0.0040000000000000001, 'schoolid_count_donor'), (0.0030999999999999999, 'schoolid_fully_funded'), (0.0030999999999999999, 'school_district_at_least_1_green_donation'), (0.0030999999999999999, 'school_city_great_chat'), (0.0030000000000000001, 'school_county_great_chat'), (0.0025000000000000001, 'schoolid_is_teacher_acct_donor'), (0.0025000000000000001, 'month'), (0.0023, 'year'), (0.0020999999999999999, 'teacher_teach_for_america'), (0.002, 'school_city_at_least_1_green_donation'), (0.0019, 'school_zip_count'), (0.0018, 'schoolid_one_or_more_required'), (0.0016999999999999999, 'school_county_at_least_1_teacher_referred_donor'), (0.0016000000000000001, 'total_price_excluding_optional_support'), (0.0016000000000000001, 'schoolid_donation_total_donor'), (0.0015, 'total_price_including_optional_support'), (0.0012999999999999999, 'cost'), (0.0011000000000000001, 'fulfillment_labor_materials'), (0.00080000000000000004, 'school_district_count'), (0.00069999999999999999, 'school_state_great_chat'), (0.00069999999999999999, 'school_state_at_least_1_green_donation'), (0.00069999999999999999, 'essay_length'), (0.00059999999999999995, 'school_state_is_exciting'), (0.00059999999999999995, 'school_city_count'), (0.00050000000000000001, 'school_county_at_least_1_green_donation'), (0.00040000000000000002, 'school_zip_fully_funded'), (0.00040000000000000002, 'school_district_fully_funded'), (0.00040000000000000002, 'Technology_cost'), (0.00029999999999999997, 'school_latitude'), (0.00029999999999999997, 'school_county_count'), (0.00029999999999999997, 'school_city_fully_funded'), (0.00029999999999999997, 'Books_cost'), (0.00020000000000000001, 'school_zip_one_or_more_required'), (0.00020000000000000001, 'school_zip'), (0.00020000000000000001, 'school_state_at_least_1_teacher_referred_donor'), (0.00020000000000000001, 'school_district_one_or_more_required'), (0.00020000000000000001, 'school_county_one_or_more_required'), (0.00020000000000000001, 'school_county_fully_funded'), (0.00020000000000000001, 'item_quantity'), (0.00020000000000000001, 'eligible_almost_home_match'), (0.00020000000000000001, 'avg_cost'), (0.0001, 'title_length'), (0.0001, 'teacher_prefix'), (0.0001, 'school_state_one_or_more_required'), (0.0001, 'school_state_fully_funded'), (0.0001, 'school_metro'), (0.0001, 'school_longitude'), (0.0001, 'school_city_one_or_more_required'), (0.0001, 'resource_type'), (0.0001, 'price_per_student'), (0.0001, 'eligible_double_your_impact_match'), (0.0001, 'Other_cost'), (0.0, 'teacher_ny_teaching_fellow'), (0.0, 'students_reached'), (0.0, 'secondary_focus_subject'), (0.0, 'secondary_focus_area'), (0.0, 'school_year_round'), (0.0, 'school_state_count'), (0.0, 'school_state'), (0.0, 'school_nlns'), (0.0, 'school_magnet'), (0.0, 'school_kipp'), (0.0, 'school_district'), (0.0, 'school_county'), (0.0, 'school_city'), (0.0, 'school_charter_ready_promise'), (0.0, 'school_charter'), (0.0, 'primary_focus_subject'), (0.0, 'primary_focus_area'), (0.0, 'poverty_level'), (0.0, 'grade_level'), (0.0, 'day'), (0.0, 'Visitors_cost'), (0.0, 'Trips_cost'), (0.0, 'Supplies_cost')]\n"
     ]
    },
    {
     "name": "stderr",
     "output_type": "stream",
     "text": [
      "[Parallel(n_jobs=-1)]: Done 300 out of 300 | elapsed:  1.9min finished\n"
     ]
    }
   ],
   "source": [
    "# after get full df, do feature selection \n",
    "from sklearn.ensemble import RandomForestRegressor,RandomForestClassifier\n",
    "\n",
    "rfr = RandomForestClassifier(n_estimators=300,n_jobs=-1,verbose=1,max_depth=5,max_features='log2',min_samples_split=1)\n",
    "print(\"start to fit the data\")\n",
    "y_ = Y==1\n",
    "rfr.fit(X,y_)\n",
    "print(\"finish fitting\")\n",
    "print( \"Features sorted by their score:\")\n",
    "feature_list = sorted(zip(map(lambda x: round(x, 4), rfr.feature_importances_), names), \n",
    "             reverse=True)\n",
    "print(feature_list)"
   ]
  },
  {
   "cell_type": "code",
   "execution_count": 18,
   "metadata": {
    "collapsed": false
   },
   "outputs": [
    {
     "name": "stderr",
     "output_type": "stream",
     "text": [
      "[Parallel(n_jobs=4)]: Done  42 tasks      | elapsed:    0.1s\n",
      "[Parallel(n_jobs=4)]: Done 192 tasks      | elapsed:    0.5s\n",
      "[Parallel(n_jobs=4)]: Done 300 out of 300 | elapsed:    0.8s finished\n"
     ]
    }
   ],
   "source": [
    "rfr_predict = rfr.predict_proba(X_test)\n",
    "rfr_predict = rfr_predict[:,1]\n",
    "sample = pd.read_csv('./data/sampleSubmission.csv')\n",
    "sample = sample.sort_values(by='projectid')\n",
    "sample['is_exciting'] = rfr_predict\n",
    "sample.to_csv('predictions_rf_300_4_log2_1.csv', index = False)"
   ]
  },
  {
   "cell_type": "code",
   "execution_count": 56,
   "metadata": {
    "collapsed": false
   },
   "outputs": [
    {
     "name": "stdout",
     "output_type": "stream",
     "text": [
      "start training\n",
      "finsh training\n"
     ]
    }
   ],
   "source": [
    "from sklearn.naive_bayes import BernoulliNB\n",
    "nb = BernoulliNB()\n",
    "print(\"start training\")\n",
    "nb.fit(X,y_)\n",
    "print(\"finsh training\")"
   ]
  },
  {
   "cell_type": "code",
   "execution_count": 57,
   "metadata": {
    "collapsed": true
   },
   "outputs": [],
   "source": [
    "nb_predict = nb.predict_proba(X_test)\n",
    "nb_predict = nb_predict[:,1]\n",
    "sample = pd.read_csv('./data/sampleSubmission.csv')\n",
    "sample = sample.sort_values(by='projectid')\n",
    "sample['is_exciting'] = nb_predict\n",
    "sample.to_csv('predictions_nb.csv', index = False)"
   ]
  },
  {
   "cell_type": "code",
   "execution_count": 44,
   "metadata": {
    "collapsed": false
   },
   "outputs": [
    {
     "data": {
      "text/plain": [
       "array([ 0.34 ,  0.16 ,  0.015, ...,  0.01 ,  0.405,  0.045])"
      ]
     },
     "execution_count": 44,
     "metadata": {},
     "output_type": "execute_result"
    }
   ],
   "source": [
    "rfr_predict"
   ]
  },
  {
   "cell_type": "code",
   "execution_count": 41,
   "metadata": {
    "collapsed": false
   },
   "outputs": [
    {
     "name": "stdout",
     "output_type": "stream",
     "text": [
      "start to fit the data\n",
      "finish fitting\n",
      "Features sorted by their score:\n",
      "[(0.21190000000000001, 'teacher_acctid_is_exciting'), (0.040000000000000001, 'essay_length'), (0.036799999999999999, 'schoolid_is_exciting'), (0.0339, 'title_length'), (0.033500000000000002, 'avg_cost'), (0.030599999999999999, 'daysbet'), (0.029899999999999999, 'monthbet'), (0.028400000000000002, 'day'), (0.027799999999999998, 'price_per_student'), (0.026599999999999999, 'teacher_acctid_one_or_more_required'), (0.024799999999999999, 'cost'), (0.0218, 'secondary_focus_subject'), (0.019699999999999999, 'total_price_including_optional_support'), (0.019, 'total_price_excluding_optional_support'), (0.019, 'teacher_acctid_count_donor'), (0.0189, 'item_quantity'), (0.016799999999999999, 'students_reached'), (0.0161, 'teacher_acctid_donor_donation_total_donor'), (0.015800000000000002, 'primary_focus_subject'), (0.015699999999999999, 'school_latitude'), (0.0152, 'school_zip_count'), (0.0152, 'school_zip'), (0.014200000000000001, 'school_county'), (0.0137, 'Supplies_cost'), (0.0134, 'school_zip_at_least_1_teacher_referred_donor'), (0.013299999999999999, 'school_zip_is_exciting'), (0.013299999999999999, 'school_zip_great_chat'), (0.013100000000000001, 'schoolid_donation_total_donor'), (0.0129, 'schoolid_is_teacher_acct_donor'), (0.012699999999999999, 'school_city_is_exciting'), (0.0126, 'school_zip_at_least_1_green_donation'), (0.012500000000000001, 'school_zip_fully_funded'), (0.012500000000000001, 'Books_cost'), (0.0124, 'schoolid_great_chat'), (0.0123, 'schoolid_count_donor'), (0.0121, 'teacher_acctid_count'), (0.011900000000000001, 'schoolid_at_least_1_teacher_referred_donor'), (0.011599999999999999, 'schoolid_one_or_more_required'), (0.011599999999999999, 'schoolid_at_least_1_green_donation'), (0.0115, 'secondary_focus_area'), (0.0111, 'Technology_cost'), (0.0104, 'month'), (0.0077999999999999996, 'schoolid_count'), (0.0076, 'Other_cost'), (0.0066, 'teacher_acctid_at_least_1_green_donation'), (0.0061999999999999998, 'teacher_acctid_great_chat'), (0.0054999999999999997, 'teacher_acctid_at_least_1_teacher_referred_donor')]\n"
     ]
    }
   ],
   "source": [
    "from sklearn.tree import DecisionTreeRegressor,DecisionTreeClassifier\n",
    "dctr = DecisionTreeClassifier()\n",
    "\n",
    "print(\"start to fit the data\")\n",
    "y_ = Y==1\n",
    "dctr.fit(X,Y)\n",
    "print(\"finish fitting\")\n",
    "dctr_predict = dctr.predict_proba(X_test)\n",
    "dctr_predict = dctr_predict[:,1]\n",
    "print( \"Features sorted by their score:\")\n",
    "feature_list_2 = sorted(zip(map(lambda x: round(x, 4), dctr.feature_importances_), names), \n",
    "             reverse=True)\n",
    "print(feature_list_2)\n",
    "sample = pd.read_csv('./data/sampleSubmission.csv')\n",
    "sample = sample.sort_values(by='projectid')\n",
    "sample['is_exciting'] = dctr_predict\n",
    "sample.to_csv('predictions_dt.csv', index = False)"
   ]
  },
  {
   "cell_type": "code",
   "execution_count": 45,
   "metadata": {
    "collapsed": true
   },
   "outputs": [],
   "source": [
    "# after feature selection, select to drop some columns\n",
    "update_feature_columns = []\n",
    "for (v,n) in feature_list:\n",
    "    update_feature_columns.append(n)\n",
    "update_feature_columns_2 = []\n",
    "for (v,n) in feature_list_2:\n",
    "    update_feature_columns_2.append(n)\n",
    "used_feature = list(set(update_feature_columns[0:40]).union(set(update_feature_columns_2[0:40])))"
   ]
  },
  {
   "cell_type": "code",
   "execution_count": 46,
   "metadata": {
    "collapsed": true
   },
   "outputs": [],
   "source": [
    "# load data again\n",
    "train = data[(data['cat']=='train')|(data['cat']=='val')]\n",
    "feature_data = train[used_feature]\n",
    "X = feature_data\n",
    "names = feature_data.columns.values\n",
    "Y = train['is_exciting']\n",
    "\n",
    "test = data[(data['cat']=='test')]\n",
    "X_test = test[used_feature]\n",
    "Y_test = test['is_exciting']"
   ]
  },
  {
   "cell_type": "code",
   "execution_count": 47,
   "metadata": {
    "collapsed": false
   },
   "outputs": [],
   "source": [
    "#from sklearn.ensemble import AdaBoostRegressor,AdaBoostClassifier\n",
    "#adb = AdaBoostClassifier(n_estimators=100,learning_rate=0.1)\n",
    "#adb.fit(X,Y)\n",
    "#predict = adb.predict(X_test)"
   ]
  },
  {
   "cell_type": "code",
   "execution_count": 48,
   "metadata": {
    "collapsed": false
   },
   "outputs": [
    {
     "name": "stdout",
     "output_type": "stream",
     "text": [
      "start training\n",
      "      Iter       Train Loss   Remaining Time \n",
      "         1           0.5324           32.07m\n",
      "         2           0.4991           31.33m\n",
      "         3           0.4745           32.30m\n",
      "         4           0.4552           31.67m\n",
      "         5           0.4396           30.99m\n",
      "         6           0.4266           30.47m\n",
      "         7           0.4156           29.55m\n",
      "         8           0.4062           28.95m\n",
      "         9           0.3981           28.60m\n",
      "        10           0.3910           28.38m\n",
      "        20           0.3522           25.92m\n",
      "        30           0.3365           24.06m\n",
      "        40           0.3289           20.12m\n",
      "        50           0.3241           16.51m\n",
      "        60           0.3208           15.76m\n",
      "        70           0.3183           18.63m\n",
      "        80           0.3159           11.62m\n",
      "        90           0.3139            5.48m\n",
      "       100           0.3119            0.00s\n",
      "finish training\n"
     ]
    }
   ],
   "source": [
    "from sklearn.ensemble import GradientBoostingClassifier,GradientBoostingRegressor\n",
    "y_ = Y==1\n",
    "# Fit regression model\n",
    "params = {'n_estimators': 100, 'max_depth': 7, 'min_samples_split': 1,\n",
    "          'learning_rate': 0.1, 'loss': 'deviance','verbose':1,}\n",
    "clf = GradientBoostingClassifier(**params)\n",
    "print (\"start training\")\n",
    "clf.fit(X, Y)\n",
    "print(\"finish training\")"
   ]
  },
  {
   "cell_type": "code",
   "execution_count": 58,
   "metadata": {
    "collapsed": false
   },
   "outputs": [],
   "source": [
    "#predict = adb.predict(X_test)\n",
    "predict = clf.predict_proba(X_test)\n",
    "predict = predict[:,1]"
   ]
  },
  {
   "cell_type": "code",
   "execution_count": 59,
   "metadata": {
    "collapsed": false
   },
   "outputs": [
    {
     "data": {
      "text/plain": [
       "array([ 0.05956156,  0.18716356,  0.00057773, ...,  0.00061795,\n",
       "        0.2962276 ,  0.00451227])"
      ]
     },
     "execution_count": 59,
     "metadata": {},
     "output_type": "execute_result"
    }
   ],
   "source": [
    "predict"
   ]
  },
  {
   "cell_type": "code",
   "execution_count": null,
   "metadata": {
    "collapsed": false
   },
   "outputs": [],
   "source": []
  },
  {
   "cell_type": "code",
   "execution_count": 60,
   "metadata": {
    "collapsed": false
   },
   "outputs": [
    {
     "data": {
      "text/html": [
       "<div>\n",
       "<table border=\"1\" class=\"dataframe\">\n",
       "  <thead>\n",
       "    <tr style=\"text-align: right;\">\n",
       "      <th></th>\n",
       "      <th>projectid</th>\n",
       "      <th>is_exciting</th>\n",
       "    </tr>\n",
       "  </thead>\n",
       "  <tbody>\n",
       "    <tr>\n",
       "      <th>44771</th>\n",
       "      <td>00034e54ed99042609edad55031c8861</td>\n",
       "      <td>0.059562</td>\n",
       "    </tr>\n",
       "    <tr>\n",
       "      <th>44770</th>\n",
       "      <td>00057f424b5498c7ece13d13ce3e2178</td>\n",
       "      <td>0.187164</td>\n",
       "    </tr>\n",
       "    <tr>\n",
       "      <th>44769</th>\n",
       "      <td>00059e63bb0567708b2b0c9e3d9c43d6</td>\n",
       "      <td>0.000578</td>\n",
       "    </tr>\n",
       "    <tr>\n",
       "      <th>44768</th>\n",
       "      <td>0008c67f27dd29ea7be5a7cc5a866df8</td>\n",
       "      <td>0.479150</td>\n",
       "    </tr>\n",
       "    <tr>\n",
       "      <th>44767</th>\n",
       "      <td>000b6e707ad50a597ab46eedff6bde05</td>\n",
       "      <td>0.001128</td>\n",
       "    </tr>\n",
       "  </tbody>\n",
       "</table>\n",
       "</div>"
      ],
      "text/plain": [
       "                              projectid  is_exciting\n",
       "44771  00034e54ed99042609edad55031c8861     0.059562\n",
       "44770  00057f424b5498c7ece13d13ce3e2178     0.187164\n",
       "44769  00059e63bb0567708b2b0c9e3d9c43d6     0.000578\n",
       "44768  0008c67f27dd29ea7be5a7cc5a866df8     0.479150\n",
       "44767  000b6e707ad50a597ab46eedff6bde05     0.001128"
      ]
     },
     "execution_count": 60,
     "metadata": {},
     "output_type": "execute_result"
    }
   ],
   "source": [
    "sample = pd.read_csv('./data/sampleSubmission.csv')\n",
    "sample = sample.sort_values(by='projectid')\n",
    "sample['is_exciting'] = predict\n",
    "sample.head()"
   ]
  },
  {
   "cell_type": "code",
   "execution_count": 61,
   "metadata": {
    "collapsed": true
   },
   "outputs": [],
   "source": [
    "sample.to_csv('predictions_4.csv', index = False)"
   ]
  },
  {
   "cell_type": "code",
   "execution_count": null,
   "metadata": {
    "collapsed": true
   },
   "outputs": [],
   "source": []
  }
 ],
 "metadata": {
  "kernelspec": {
   "display_name": "Python 3",
   "language": "python",
   "name": "python3"
  },
  "language_info": {
   "codemirror_mode": {
    "name": "ipython",
    "version": 3
   },
   "file_extension": ".py",
   "mimetype": "text/x-python",
   "name": "python",
   "nbconvert_exporter": "python",
   "pygments_lexer": "ipython3",
   "version": "3.5.1"
  }
 },
 "nbformat": 4,
 "nbformat_minor": 0
}

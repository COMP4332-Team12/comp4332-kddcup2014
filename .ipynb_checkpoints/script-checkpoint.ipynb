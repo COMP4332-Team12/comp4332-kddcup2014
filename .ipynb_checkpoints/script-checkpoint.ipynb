{
 "cells": [
  {
   "cell_type": "code",
   "execution_count": 1,
   "metadata": {
    "collapsed": true
   },
   "outputs": [],
   "source": [
    "# imports\n",
    "import itertools\n",
    "import os\n",
    "import re\n",
    "import math\n",
    "import random\n",
    "import numpy as np\n",
    "import matplotlib.pyplot as plt\n",
    "import csv\n",
    "import pandas as pd\n",
    "from sklearn.preprocessing import LabelEncoder, OneHotEncoder\n",
    "\n",
    "from sklearn import metrics\n",
    "from sklearn.linear_model import SGDClassifier\n",
    "\n",
    "from sklearn.ensemble import GradientBoostingRegressor, GradientBoostingClassifier, \\\n",
    "    RandomForestRegressor, RandomForestClassifier\n",
    "from datetime import date\n",
    "%matplotlib inline"
   ]
  },
  {
   "cell_type": "code",
   "execution_count": 2,
   "metadata": {
    "collapsed": false
   },
   "outputs": [],
   "source": [
    "# start to calculate history rate for different attributes \n",
    "id_columns = ['teacher_acctid','schoolid']\n",
    "location_columns = ['school_city','school_state','school_district','school_county','school_zip']\n",
    "all_columns = id_columns + location_columns\n",
    "\n",
    "requirements_columns = ['projectid','date_posted','is_exciting','at_least_1_teacher_referred_donor','fully_funded','at_least_1_green_donation','great_chat','one_or_more_required']\n",
    "require_only_columns = ['is_exciting','at_least_1_teacher_referred_donor','fully_funded','at_least_1_green_donation','great_chat','one_or_more_required']"
   ]
  },
  {
   "cell_type": "code",
   "execution_count": 3,
   "metadata": {
    "collapsed": false
   },
   "outputs": [],
   "source": [
    "def calculate_possibility(df, title, columns=require_only_columns):\n",
    "    df_p = df \n",
    "    alpha = 10\n",
    "    for var in require_only_columns:\n",
    "        mean = df_p[var].sum()/df_p['count'].sum()\n",
    "        #print(mean)\n",
    "        df_p[var] = (df_p[var]+mean*alpha)/(df_p['count']+alpha)\n",
    "        df_p[var][df_p['count']==1] = 0      \n",
    "        df_p.columns = df_p.columns.str.replace(var,\"\".join(title+'_'+var))\n",
    "    df_p.rename(columns={'count': \"\".join(title+'_count')}, inplace=True)\n",
    "    return df_p\n",
    "def calculate_possibility_by_time(df,title,start_date,end_date,columns= require_only_columns):\n",
    "    df_p = df[(df['date_posted']<end_date)&(df['date_posted']>=start_date)]\n",
    "    alpha = 10\n",
    "    for var in require_only_columns:\n",
    "        mean = df_p[var].sum()/df_p['count'].sum()\n",
    "        #print(mean)\n",
    "        df_p[var] = (df_p[var]+mean*alpha)/(df_p['count']+alpha)\n",
    "        df_p[var][df_p['count']==1] = 0      \n",
    "        df_p.columns = df_p.columns.str.replace(var,\"\".join(title+'_'+var))\n",
    "    df_p.rename(columns={'count': \"\".join(title+'_count')}, inplace=True)\n",
    "    return df_p"
   ]
  },
  {
   "cell_type": "code",
   "execution_count": 4,
   "metadata": {
    "collapsed": false
   },
   "outputs": [],
   "source": [
    "def calculate_sum(df,name):\n",
    "    #df_tmp = df[df['date_posted']<\"2014-01-01\"]\n",
    "    df_tmp = df \n",
    "    name_group = df_tmp.groupby(name,as_index=False)\n",
    "    count = pd.DataFrame({'count':name_group.size()}).reset_index()\n",
    "    prev = name_group.sum()\n",
    "    prev = pd.merge(prev,count,on=name)\n",
    "    df_tmp = pd.merge(df_tmp[['projectid',name]],prev,how='left',on=name)\n",
    "    return df_tmp\n",
    "\n",
    "def calculate_by_time(df,name,start_date,end_date):\n",
    "    df_tmp = df[(df['date_posted']<end_date)&(df['date_posted']>=start_date)]\n",
    "    name_group = df_tmp.groupby(name,as_index=False)\n",
    "    count = pd.DataFrame({'count':name_group.size()}).reset_index()\n",
    "    prev = name_group.sum()\n",
    "    prev = pd.merge(prev,count,on=name)\n",
    "    df_tmp = pd.merge(df_tmp[['projectid','date_posted',name]],prev,how='left',on=name)\n",
    "    df_tmp = df_tmp.drop('date_posted',axis=1)\n",
    "    return df_tmp\n",
    "\n",
    "def get_full_df():\n",
    "    test_df = df\n",
    "    #data = df[(df['cat']=='train')|(df['cat']=='val')]\n",
    "    for var in all_columns:\n",
    "        #get columns of requirements\n",
    "        name_tmp = df[np.append(requirements_columns,var)]\n",
    "        # calculate sum accroding to different attribute\n",
    "        sum_tmp = calculate_sum(name_tmp,var)\n",
    "        #calculate the possibility of different attribute\n",
    "        pos_tmp = calculate_possibility(sum_tmp,var)\n",
    "        # merge the result to the main df dataframe\n",
    "        test_df = pd.merge(test_df,pos_tmp,how='left',on=['projectid',var])\n",
    "        print(\"finish merge for \"+ var)\n",
    "    return test_df"
   ]
  },
  {
   "cell_type": "code",
   "execution_count": 5,
   "metadata": {
    "collapsed": false
   },
   "outputs": [],
   "source": [
    "# this function is not finished yet\n",
    "def get_date_partition(start_date, end_date, interval):\n",
    "    intervals = []\n",
    "    start_time = pd.to_datetime(start_date)\n",
    "    end_time = pd.to_datetime(end_date)\n",
    "    bet = end_time - start_time\n",
    "    times = bet/interval\n",
    "    for i in range(0,times):\n",
    "        end = start_time + interval\n",
    "        start_time.dt.strftime()"
   ]
  },
  {
   "cell_type": "code",
   "execution_count": 6,
   "metadata": {
    "collapsed": false
   },
   "outputs": [
    {
     "name": "stdout",
     "output_type": "stream",
     "text": [
      "loading the data...\n",
      "complete..\n"
     ]
    }
   ],
   "source": [
    "print('loading the data...')\n",
    "projects = pd.read_csv('./data/projects.csv')\n",
    "outcomes = pd.read_csv('./data/outcomes.csv')\n",
    "#donations = pd.read_csv('./data/donations.csv')\n",
    "#resources = pd.read_csv('./data/resources.csv')\n",
    "print('complete..')"
   ]
  },
  {
   "cell_type": "code",
   "execution_count": 7,
   "metadata": {
    "collapsed": false
   },
   "outputs": [
    {
     "name": "stdout",
     "output_type": "stream",
     "text": [
      "(619326, 12)\n"
     ]
    },
    {
     "data": {
      "text/html": [
       "<div>\n",
       "<table border=\"1\" class=\"dataframe\">\n",
       "  <thead>\n",
       "    <tr style=\"text-align: right;\">\n",
       "      <th></th>\n",
       "      <th>projectid</th>\n",
       "      <th>is_exciting</th>\n",
       "      <th>at_least_1_teacher_referred_donor</th>\n",
       "      <th>fully_funded</th>\n",
       "      <th>at_least_1_green_donation</th>\n",
       "      <th>great_chat</th>\n",
       "      <th>three_or_more_non_teacher_referred_donors</th>\n",
       "      <th>one_non_teacher_referred_donor_giving_100_plus</th>\n",
       "      <th>donation_from_thoughtful_donor</th>\n",
       "      <th>great_messages_proportion</th>\n",
       "      <th>teacher_referred_count</th>\n",
       "      <th>non_teacher_referred_count</th>\n",
       "    </tr>\n",
       "  </thead>\n",
       "  <tbody>\n",
       "    <tr>\n",
       "      <th>0</th>\n",
       "      <td>ffffc4f85b60efc5b52347df489d0238</td>\n",
       "      <td>f</td>\n",
       "      <td>NaN</td>\n",
       "      <td>f</td>\n",
       "      <td>NaN</td>\n",
       "      <td>f</td>\n",
       "      <td>NaN</td>\n",
       "      <td>NaN</td>\n",
       "      <td>NaN</td>\n",
       "      <td>NaN</td>\n",
       "      <td>NaN</td>\n",
       "      <td>NaN</td>\n",
       "    </tr>\n",
       "    <tr>\n",
       "      <th>1</th>\n",
       "      <td>ffffac55ee02a49d1abc87ba6fc61135</td>\n",
       "      <td>f</td>\n",
       "      <td>f</td>\n",
       "      <td>t</td>\n",
       "      <td>t</td>\n",
       "      <td>f</td>\n",
       "      <td>t</td>\n",
       "      <td>f</td>\n",
       "      <td>f</td>\n",
       "      <td>57.0</td>\n",
       "      <td>0.0</td>\n",
       "      <td>7.0</td>\n",
       "    </tr>\n",
       "    <tr>\n",
       "      <th>2</th>\n",
       "      <td>ffff97ed93720407d70a2787475932b0</td>\n",
       "      <td>f</td>\n",
       "      <td>f</td>\n",
       "      <td>t</td>\n",
       "      <td>t</td>\n",
       "      <td>t</td>\n",
       "      <td>t</td>\n",
       "      <td>t</td>\n",
       "      <td>f</td>\n",
       "      <td>100.0</td>\n",
       "      <td>0.0</td>\n",
       "      <td>3.0</td>\n",
       "    </tr>\n",
       "    <tr>\n",
       "      <th>3</th>\n",
       "      <td>ffff418bb42fad24347527ad96100f81</td>\n",
       "      <td>f</td>\n",
       "      <td>f</td>\n",
       "      <td>f</td>\n",
       "      <td>t</td>\n",
       "      <td>t</td>\n",
       "      <td>f</td>\n",
       "      <td>f</td>\n",
       "      <td>f</td>\n",
       "      <td>100.0</td>\n",
       "      <td>0.0</td>\n",
       "      <td>1.0</td>\n",
       "    </tr>\n",
       "    <tr>\n",
       "      <th>4</th>\n",
       "      <td>ffff2d9c769c8fb5335e949c615425eb</td>\n",
       "      <td>t</td>\n",
       "      <td>t</td>\n",
       "      <td>t</td>\n",
       "      <td>t</td>\n",
       "      <td>t</td>\n",
       "      <td>f</td>\n",
       "      <td>t</td>\n",
       "      <td>f</td>\n",
       "      <td>63.0</td>\n",
       "      <td>6.0</td>\n",
       "      <td>2.0</td>\n",
       "    </tr>\n",
       "  </tbody>\n",
       "</table>\n",
       "</div>"
      ],
      "text/plain": [
       "                          projectid is_exciting  \\\n",
       "0  ffffc4f85b60efc5b52347df489d0238           f   \n",
       "1  ffffac55ee02a49d1abc87ba6fc61135           f   \n",
       "2  ffff97ed93720407d70a2787475932b0           f   \n",
       "3  ffff418bb42fad24347527ad96100f81           f   \n",
       "4  ffff2d9c769c8fb5335e949c615425eb           t   \n",
       "\n",
       "  at_least_1_teacher_referred_donor fully_funded at_least_1_green_donation  \\\n",
       "0                               NaN            f                       NaN   \n",
       "1                                 f            t                         t   \n",
       "2                                 f            t                         t   \n",
       "3                                 f            f                         t   \n",
       "4                                 t            t                         t   \n",
       "\n",
       "  great_chat three_or_more_non_teacher_referred_donors  \\\n",
       "0          f                                       NaN   \n",
       "1          f                                         t   \n",
       "2          t                                         t   \n",
       "3          t                                         f   \n",
       "4          t                                         f   \n",
       "\n",
       "  one_non_teacher_referred_donor_giving_100_plus  \\\n",
       "0                                            NaN   \n",
       "1                                              f   \n",
       "2                                              t   \n",
       "3                                              f   \n",
       "4                                              t   \n",
       "\n",
       "  donation_from_thoughtful_donor  great_messages_proportion  \\\n",
       "0                            NaN                        NaN   \n",
       "1                              f                       57.0   \n",
       "2                              f                      100.0   \n",
       "3                              f                      100.0   \n",
       "4                              f                       63.0   \n",
       "\n",
       "   teacher_referred_count  non_teacher_referred_count  \n",
       "0                     NaN                         NaN  \n",
       "1                     0.0                         7.0  \n",
       "2                     0.0                         3.0  \n",
       "3                     0.0                         1.0  \n",
       "4                     6.0                         2.0  "
      ]
     },
     "execution_count": 7,
     "metadata": {},
     "output_type": "execute_result"
    }
   ],
   "source": [
    "print(outcomes.shape)\n",
    "outcomes = outcomes.sort_values(by='projectid')\n",
    "outcomes.fillna(method='pad')\n",
    "outcomes.head()"
   ]
  },
  {
   "cell_type": "code",
   "execution_count": 8,
   "metadata": {
    "collapsed": false
   },
   "outputs": [
    {
     "name": "stdout",
     "output_type": "stream",
     "text": [
      "(664098, 46)\n"
     ]
    },
    {
     "data": {
      "text/plain": [
       "(44772, 46)"
      ]
     },
     "execution_count": 8,
     "metadata": {},
     "output_type": "execute_result"
    }
   ],
   "source": [
    "projects = projects.sort_values(by='projectid')\n",
    "projects.fillna(method='pad')\n",
    " \n",
    "df = pd.merge(projects, outcomes, how='left', on='projectid')\n",
    "print(df.shape)\n",
    "df[df['is_exciting'].isnull()].shape"
   ]
  },
  {
   "cell_type": "code",
   "execution_count": 9,
   "metadata": {
    "collapsed": false
   },
   "outputs": [
    {
     "name": "stderr",
     "output_type": "stream",
     "text": [
      "/Users/hang/anaconda/lib/python3.5/site-packages/ipykernel/__main__.py:3: SettingWithCopyWarning: \n",
      "A value is trying to be set on a copy of a slice from a DataFrame\n",
      "\n",
      "See the caveats in the documentation: http://pandas.pydata.org/pandas-docs/stable/indexing.html#indexing-view-versus-copy\n",
      "  app.launch_new_instance()\n",
      "/Users/hang/anaconda/lib/python3.5/site-packages/ipykernel/__main__.py:5: SettingWithCopyWarning: \n",
      "A value is trying to be set on a copy of a slice from a DataFrame\n",
      "\n",
      "See the caveats in the documentation: http://pandas.pydata.org/pandas-docs/stable/indexing.html#indexing-view-versus-copy\n",
      "/Users/hang/anaconda/lib/python3.5/site-packages/ipykernel/__main__.py:7: SettingWithCopyWarning: \n",
      "A value is trying to be set on a copy of a slice from a DataFrame\n",
      "\n",
      "See the caveats in the documentation: http://pandas.pydata.org/pandas-docs/stable/indexing.html#indexing-view-versus-copy\n"
     ]
    },
    {
     "name": "stdout",
     "output_type": "stream",
     "text": [
      "(467620, 47)\n"
     ]
    }
   ],
   "source": [
    "#add category for the data \n",
    "df['cat'] = \"train\"\n",
    "df['cat'][df[\"date_posted\"]<\"2010-04-01\"] = \"nouse\"\n",
    "# valadation set\n",
    "df['cat'][df[\"date_posted\"]>=\"2013-01-01\"] = \"val\"\n",
    "# test set\n",
    "df['cat'][df[\"date_posted\"]>=\"2014-01-01\"]= \"test\"\n",
    "df = df[df['cat']!=\"nouse\"]\n",
    "print(df.shape)"
   ]
  },
  {
   "cell_type": "code",
   "execution_count": 10,
   "metadata": {
    "collapsed": false
   },
   "outputs": [
    {
     "name": "stderr",
     "output_type": "stream",
     "text": [
      "/Users/hang/anaconda/lib/python3.5/site-packages/ipykernel/__main__.py:3: SettingWithCopyWarning: \n",
      "A value is trying to be set on a copy of a slice from a DataFrame\n",
      "\n",
      "See the caveats in the documentation: http://pandas.pydata.org/pandas-docs/stable/indexing.html#indexing-view-versus-copy\n",
      "  app.launch_new_instance()\n"
     ]
    }
   ],
   "source": [
    "# transform the t / f to 1 and 0\n",
    "df['is_exciting'][df['is_exciting']==\"t\"] = 1\n",
    "df['is_exciting'][df['is_exciting']==\"f\"] = 0\n",
    "df['is_exciting'].fillna(0,inplace=True)"
   ]
  },
  {
   "cell_type": "code",
   "execution_count": 11,
   "metadata": {
    "collapsed": false
   },
   "outputs": [
    {
     "name": "stderr",
     "output_type": "stream",
     "text": [
      "/Users/hang/anaconda/lib/python3.5/site-packages/ipykernel/__main__.py:2: SettingWithCopyWarning: \n",
      "A value is trying to be set on a copy of a slice from a DataFrame\n",
      "\n",
      "See the caveats in the documentation: http://pandas.pydata.org/pandas-docs/stable/indexing.html#indexing-view-versus-copy\n",
      "  from ipykernel import kernelapp as app\n"
     ]
    }
   ],
   "source": [
    "df[\"at_least_1_teacher_referred_donor\"][df[\"at_least_1_teacher_referred_donor\"]==\"t\"] = 1\n",
    "df[\"at_least_1_teacher_referred_donor\"][df[\"at_least_1_teacher_referred_donor\"]==\"f\"] = 0\n",
    "df[\"at_least_1_teacher_referred_donor\"].fillna(0,inplace=True)"
   ]
  },
  {
   "cell_type": "code",
   "execution_count": 12,
   "metadata": {
    "collapsed": false
   },
   "outputs": [],
   "source": [
    "df[\"great_chat\"][df[\"great_chat\"]==\"t\"] = 1\n",
    "df[\"great_chat\"][df[\"great_chat\"]==\"f\"] = 0\n",
    "df[\"great_chat\"].fillna(0,inplace=True)"
   ]
  },
  {
   "cell_type": "code",
   "execution_count": 13,
   "metadata": {
    "collapsed": false
   },
   "outputs": [],
   "source": [
    "df[\"fully_funded\"][df[\"fully_funded\"]==\"t\"] = 1\n",
    "df[\"fully_funded\"][df[\"fully_funded\"]==\"f\"] = 0\n",
    "df[\"fully_funded\"].fillna(0,inplace=True)"
   ]
  },
  {
   "cell_type": "code",
   "execution_count": 14,
   "metadata": {
    "collapsed": false
   },
   "outputs": [],
   "source": [
    "df[\"at_least_1_green_donation\"][df[\"at_least_1_green_donation\"]==\"t\"] = 1\n",
    "df[\"at_least_1_green_donation\"][df[\"at_least_1_green_donation\"]==\"f\"] = 0\n",
    "df[\"at_least_1_green_donation\"].fillna(0,inplace=True)"
   ]
  },
  {
   "cell_type": "code",
   "execution_count": 15,
   "metadata": {
    "collapsed": false
   },
   "outputs": [],
   "source": [
    "df[\"donation_from_thoughtful_donor\"][df[\"donation_from_thoughtful_donor\"]==\"t\"] = 1\n",
    "df[\"donation_from_thoughtful_donor\"][df[\"donation_from_thoughtful_donor\"]==\"f\"] = 0\n",
    "df[\"donation_from_thoughtful_donor\"].fillna(0,inplace=True)"
   ]
  },
  {
   "cell_type": "code",
   "execution_count": 16,
   "metadata": {
    "collapsed": false
   },
   "outputs": [],
   "source": [
    "df[\"three_or_more_non_teacher_referred_donors\"][df[\"three_or_more_non_teacher_referred_donors\"]==\"t\"] = 1\n",
    "df[\"three_or_more_non_teacher_referred_donors\"][df[\"three_or_more_non_teacher_referred_donors\"]==\"f\"] = 0\n",
    "df[\"three_or_more_non_teacher_referred_donors\"].fillna(0,inplace=True)"
   ]
  },
  {
   "cell_type": "code",
   "execution_count": 17,
   "metadata": {
    "collapsed": false
   },
   "outputs": [],
   "source": [
    "df[\"one_non_teacher_referred_donor_giving_100_plus\"][df[\"one_non_teacher_referred_donor_giving_100_plus\"]==\"t\"] = 1\n",
    "df[\"one_non_teacher_referred_donor_giving_100_plus\"][df[\"one_non_teacher_referred_donor_giving_100_plus\"]==\"f\"] = 0\n",
    "df[\"one_non_teacher_referred_donor_giving_100_plus\"].fillna(0,inplace=True)"
   ]
  },
  {
   "cell_type": "code",
   "execution_count": 18,
   "metadata": {
    "collapsed": false
   },
   "outputs": [],
   "source": [
    "df['teacher_referred_count'][df['teacher_referred_count']<1] = 0\n",
    "df['teacher_referred_count'][df['teacher_referred_count']>=1] = 1\n",
    "df['teacher_referred_count'].fillna(0,inplace=True)"
   ]
  },
  {
   "cell_type": "code",
   "execution_count": 19,
   "metadata": {
    "collapsed": false
   },
   "outputs": [
    {
     "name": "stderr",
     "output_type": "stream",
     "text": [
      "/Users/hang/anaconda/lib/python3.5/site-packages/ipykernel/__main__.py:2: SettingWithCopyWarning: \n",
      "A value is trying to be set on a copy of a slice from a DataFrame\n",
      "\n",
      "See the caveats in the documentation: http://pandas.pydata.org/pandas-docs/stable/indexing.html#indexing-view-versus-copy\n",
      "  from ipykernel import kernelapp as app\n"
     ]
    }
   ],
   "source": [
    "df['non_teacher_referred_count'][df['non_teacher_referred_count']<1] = 0\n",
    "df['non_teacher_referred_count'][df['non_teacher_referred_count']>=3] = 1\n",
    "df['non_teacher_referred_count'].fillna(0,inplace=True)"
   ]
  },
  {
   "cell_type": "code",
   "execution_count": 20,
   "metadata": {
    "collapsed": false
   },
   "outputs": [
    {
     "name": "stderr",
     "output_type": "stream",
     "text": [
      "/Users/hang/anaconda/lib/python3.5/site-packages/ipykernel/__main__.py:4: SettingWithCopyWarning: \n",
      "A value is trying to be set on a copy of a slice from a DataFrame\n",
      "\n",
      "See the caveats in the documentation: http://pandas.pydata.org/pandas-docs/stable/indexing.html#indexing-view-versus-copy\n",
      "/Users/hang/anaconda/lib/python3.5/site-packages/ipykernel/__main__.py:5: SettingWithCopyWarning: \n",
      "A value is trying to be set on a copy of a slice from a DataFrame\n",
      "\n",
      "See the caveats in the documentation: http://pandas.pydata.org/pandas-docs/stable/indexing.html#indexing-view-versus-copy\n"
     ]
    }
   ],
   "source": [
    "one_or_more_required = ['three_or_more_non_teacher_referred_donors','one_non_teacher_referred_donor_giving_100_plus',\n",
    "                       'donation_from_thoughtful_donor']\n",
    "df['one_or_more_required'] = df[one_or_more_required].sum(axis=1)\n",
    "df['one_or_more_required'][df['one_or_more_required']>=1] = 1\n",
    "df['one_or_more_required'][df['one_or_more_required']<1] = 0\n",
    "# this was indicated in the great_chat no need to cal again \n",
    "#df['great_messages_proportion'].fillna(0,inplace=True)\n",
    "#df['great_messages_proportion'][df['great_messages_proportion'] >= 62] = True\n",
    "#df['great_messages_proportion'][df['great_messages_proportion'] < 62] = False\n",
    "#df['great_messages_proportion'].apply(lambda x: 1 if x else 0)"
   ]
  },
  {
   "cell_type": "code",
   "execution_count": 21,
   "metadata": {
    "collapsed": false
   },
   "outputs": [],
   "source": [
    "# add time tag columns for the data, maybe used for calculate history features\n",
    "df[\"year\"] = df[\"date_posted\"].apply(lambda x: x.split(\"-\")[0])\n",
    "df[\"month\"] = df[\"date_posted\"].apply(lambda x: x.split(\"-\")[1])\n",
    "df[\"day\"] = df[\"date_posted\"].apply(lambda x: x.split(\"-\")[2])\n",
    "df['school_ncesid'] = df['school_ncesid'].apply(str)\n",
    "df['school_zip'] = df['school_zip'].apply(str)"
   ]
  },
  {
   "cell_type": "code",
   "execution_count": 22,
   "metadata": {
    "collapsed": false
   },
   "outputs": [
    {
     "name": "stderr",
     "output_type": "stream",
     "text": [
      "/Users/hang/anaconda/lib/python3.5/site-packages/ipykernel/__main__.py:1: SettingWithCopyWarning: \n",
      "A value is trying to be set on a copy of a slice from a DataFrame\n",
      "\n",
      "See the caveats in the documentation: http://pandas.pydata.org/pandas-docs/stable/indexing.html#indexing-view-versus-copy\n",
      "  if __name__ == '__main__':\n",
      "/Users/hang/anaconda/lib/python3.5/site-packages/ipykernel/__main__.py:2: SettingWithCopyWarning: \n",
      "A value is trying to be set on a copy of a slice from a DataFrame\n",
      "\n",
      "See the caveats in the documentation: http://pandas.pydata.org/pandas-docs/stable/indexing.html#indexing-view-versus-copy\n",
      "  from ipykernel import kernelapp as app\n",
      "/Users/hang/anaconda/lib/python3.5/site-packages/ipykernel/__main__.py:3: SettingWithCopyWarning: \n",
      "A value is trying to be set on a copy of a slice from a DataFrame\n",
      "\n",
      "See the caveats in the documentation: http://pandas.pydata.org/pandas-docs/stable/indexing.html#indexing-view-versus-copy\n",
      "  app.launch_new_instance()\n",
      "/Users/hang/anaconda/lib/python3.5/site-packages/ipykernel/__main__.py:4: SettingWithCopyWarning: \n",
      "A value is trying to be set on a copy of a slice from a DataFrame\n",
      "\n",
      "See the caveats in the documentation: http://pandas.pydata.org/pandas-docs/stable/indexing.html#indexing-view-versus-copy\n"
     ]
    }
   ],
   "source": [
    "df['grade_level'][df['grade_level']==\"Grades PreK-2\"] = 0.0\n",
    "df['grade_level'][df['grade_level']==\"Grades 3-5\"] = 1.0\n",
    "df['grade_level'][df['grade_level']==\"Grades 6-8\"] = 2.0\n",
    "df['grade_level'][df['grade_level']==\"Grades 9-12\"] = 3.0"
   ]
  },
  {
   "cell_type": "code",
   "execution_count": 23,
   "metadata": {
    "collapsed": false
   },
   "outputs": [
    {
     "name": "stderr",
     "output_type": "stream",
     "text": [
      "/Users/hang/anaconda/lib/python3.5/site-packages/ipykernel/__main__.py:1: SettingWithCopyWarning: \n",
      "A value is trying to be set on a copy of a slice from a DataFrame\n",
      "\n",
      "See the caveats in the documentation: http://pandas.pydata.org/pandas-docs/stable/indexing.html#indexing-view-versus-copy\n",
      "  if __name__ == '__main__':\n",
      "/Users/hang/anaconda/lib/python3.5/site-packages/ipykernel/__main__.py:2: SettingWithCopyWarning: \n",
      "A value is trying to be set on a copy of a slice from a DataFrame\n",
      "\n",
      "See the caveats in the documentation: http://pandas.pydata.org/pandas-docs/stable/indexing.html#indexing-view-versus-copy\n",
      "  from ipykernel import kernelapp as app\n",
      "/Users/hang/anaconda/lib/python3.5/site-packages/ipykernel/__main__.py:3: SettingWithCopyWarning: \n",
      "A value is trying to be set on a copy of a slice from a DataFrame\n",
      "\n",
      "See the caveats in the documentation: http://pandas.pydata.org/pandas-docs/stable/indexing.html#indexing-view-versus-copy\n",
      "  app.launch_new_instance()\n",
      "/Users/hang/anaconda/lib/python3.5/site-packages/ipykernel/__main__.py:4: SettingWithCopyWarning: \n",
      "A value is trying to be set on a copy of a slice from a DataFrame\n",
      "\n",
      "See the caveats in the documentation: http://pandas.pydata.org/pandas-docs/stable/indexing.html#indexing-view-versus-copy\n"
     ]
    }
   ],
   "source": [
    "df['poverty_level'][df['poverty_level']=='highest poverty'] = 3.0\n",
    "df['poverty_level'][df['poverty_level']=='high poverty'] = 2.0\n",
    "df['poverty_level'][df['poverty_level']=='moderate poverty'] = 1.0\n",
    "df['poverty_level'][df['poverty_level']=='low poverty'] = 0.0"
   ]
  },
  {
   "cell_type": "code",
   "execution_count": 24,
   "metadata": {
    "collapsed": false
   },
   "outputs": [
    {
     "name": "stderr",
     "output_type": "stream",
     "text": [
      "/Users/hang/anaconda/lib/python3.5/site-packages/ipykernel/__main__.py:8: SettingWithCopyWarning: \n",
      "A value is trying to be set on a copy of a slice from a DataFrame\n",
      "\n",
      "See the caveats in the documentation: http://pandas.pydata.org/pandas-docs/stable/indexing.html#indexing-view-versus-copy\n"
     ]
    },
    {
     "name": "stdout",
     "output_type": "stream",
     "text": [
      "finish merge for teacher_acctid\n",
      "finish merge for schoolid\n",
      "finish merge for school_city\n",
      "finish merge for school_state\n",
      "finish merge for school_district\n",
      "finish merge for school_county\n",
      "finish merge for school_zip\n"
     ]
    },
    {
     "data": {
      "text/html": [
       "<div>\n",
       "<table border=\"1\" class=\"dataframe\">\n",
       "  <thead>\n",
       "    <tr style=\"text-align: right;\">\n",
       "      <th></th>\n",
       "      <th>projectid</th>\n",
       "      <th>teacher_acctid</th>\n",
       "      <th>schoolid</th>\n",
       "      <th>school_ncesid</th>\n",
       "      <th>school_latitude</th>\n",
       "      <th>school_longitude</th>\n",
       "      <th>school_city</th>\n",
       "      <th>school_state</th>\n",
       "      <th>school_zip</th>\n",
       "      <th>school_metro</th>\n",
       "      <th>...</th>\n",
       "      <th>school_county_great_chat</th>\n",
       "      <th>school_county_one_or_more_required</th>\n",
       "      <th>school_county_count</th>\n",
       "      <th>school_zip_is_exciting</th>\n",
       "      <th>school_zip_at_least_1_teacher_referred_donor</th>\n",
       "      <th>school_zip_fully_funded</th>\n",
       "      <th>school_zip_at_least_1_green_donation</th>\n",
       "      <th>school_zip_great_chat</th>\n",
       "      <th>school_zip_one_or_more_required</th>\n",
       "      <th>school_zip_count</th>\n",
       "    </tr>\n",
       "  </thead>\n",
       "  <tbody>\n",
       "    <tr>\n",
       "      <th>0</th>\n",
       "      <td>316ed8fb3b81402ff6ac8f721bb31192</td>\n",
       "      <td>42d43fa6f37314365d08692e08680973</td>\n",
       "      <td>c0e6ce89b244764085691a1b8e28cb81</td>\n",
       "      <td>63627006187.0</td>\n",
       "      <td>36.576340</td>\n",
       "      <td>-119.608713</td>\n",
       "      <td>Selma</td>\n",
       "      <td>CA</td>\n",
       "      <td>93662.0</td>\n",
       "      <td>NaN</td>\n",
       "      <td>...</td>\n",
       "      <td>0.397624</td>\n",
       "      <td>0.634102</td>\n",
       "      <td>575</td>\n",
       "      <td>0.110160</td>\n",
       "      <td>0.227105</td>\n",
       "      <td>0.514694</td>\n",
       "      <td>0.399165</td>\n",
       "      <td>0.313353</td>\n",
       "      <td>0.480658</td>\n",
       "      <td>15</td>\n",
       "    </tr>\n",
       "    <tr>\n",
       "      <th>1</th>\n",
       "      <td>90de744e368a7e4883223ca49318ae30</td>\n",
       "      <td>864eb466462bf704bf7a16a585ef296a</td>\n",
       "      <td>d711e47810900c96f26a5d0be30c446d</td>\n",
       "      <td>483702008193.0</td>\n",
       "      <td>32.911179</td>\n",
       "      <td>-96.723640</td>\n",
       "      <td>Dallas</td>\n",
       "      <td>TX</td>\n",
       "      <td>75243.0</td>\n",
       "      <td>urban</td>\n",
       "      <td>...</td>\n",
       "      <td>0.267835</td>\n",
       "      <td>0.669484</td>\n",
       "      <td>5533</td>\n",
       "      <td>0.127048</td>\n",
       "      <td>0.360304</td>\n",
       "      <td>0.627962</td>\n",
       "      <td>0.604670</td>\n",
       "      <td>0.305111</td>\n",
       "      <td>0.621100</td>\n",
       "      <td>114</td>\n",
       "    </tr>\n",
       "    <tr>\n",
       "      <th>2</th>\n",
       "      <td>32943bb1063267de6ed19fc0ceb4b9a7</td>\n",
       "      <td>37f85135259ece793213aca9d8765542</td>\n",
       "      <td>665c3613013ba0a66e3a2a26b89f1b68</td>\n",
       "      <td>410327000109.0</td>\n",
       "      <td>45.166039</td>\n",
       "      <td>-122.414576</td>\n",
       "      <td>Colton</td>\n",
       "      <td>OR</td>\n",
       "      <td>97017.0</td>\n",
       "      <td>rural</td>\n",
       "      <td>...</td>\n",
       "      <td>0.411276</td>\n",
       "      <td>0.754846</td>\n",
       "      <td>186</td>\n",
       "      <td>0.062834</td>\n",
       "      <td>0.223136</td>\n",
       "      <td>0.572279</td>\n",
       "      <td>0.498261</td>\n",
       "      <td>0.236151</td>\n",
       "      <td>0.584703</td>\n",
       "      <td>2</td>\n",
       "    </tr>\n",
       "    <tr>\n",
       "      <th>3</th>\n",
       "      <td>bb18f409abda2f264d5acda8cab577a9</td>\n",
       "      <td>2133fc46f951f1e7d60645b0f9e48a6c</td>\n",
       "      <td>4f12c3fa0c1cce823c7ba1df57e90ccb</td>\n",
       "      <td>360015302507.0</td>\n",
       "      <td>40.641727</td>\n",
       "      <td>-73.965655</td>\n",
       "      <td>Brooklyn</td>\n",
       "      <td>NY</td>\n",
       "      <td>11226.0</td>\n",
       "      <td>urban</td>\n",
       "      <td>...</td>\n",
       "      <td>0.335476</td>\n",
       "      <td>0.698716</td>\n",
       "      <td>9921</td>\n",
       "      <td>0.161973</td>\n",
       "      <td>0.367700</td>\n",
       "      <td>0.776968</td>\n",
       "      <td>0.787306</td>\n",
       "      <td>0.421375</td>\n",
       "      <td>0.767496</td>\n",
       "      <td>291</td>\n",
       "    </tr>\n",
       "    <tr>\n",
       "      <th>4</th>\n",
       "      <td>24761b686e18e5eace634607acbcc19f</td>\n",
       "      <td>867ff478a63f5457eaf41049536c47cd</td>\n",
       "      <td>10179fd362d7b8cf0e89baa1ca3025bb</td>\n",
       "      <td>62271003157.0</td>\n",
       "      <td>34.043939</td>\n",
       "      <td>-118.288371</td>\n",
       "      <td>Los Angeles</td>\n",
       "      <td>CA</td>\n",
       "      <td>90006.0</td>\n",
       "      <td>urban</td>\n",
       "      <td>...</td>\n",
       "      <td>0.219667</td>\n",
       "      <td>0.697394</td>\n",
       "      <td>41797</td>\n",
       "      <td>0.028688</td>\n",
       "      <td>0.244311</td>\n",
       "      <td>0.653882</td>\n",
       "      <td>0.578731</td>\n",
       "      <td>0.109304</td>\n",
       "      <td>0.690097</td>\n",
       "      <td>574</td>\n",
       "    </tr>\n",
       "  </tbody>\n",
       "</table>\n",
       "<p>5 rows × 100 columns</p>\n",
       "</div>"
      ],
      "text/plain": [
       "                          projectid                    teacher_acctid  \\\n",
       "0  316ed8fb3b81402ff6ac8f721bb31192  42d43fa6f37314365d08692e08680973   \n",
       "1  90de744e368a7e4883223ca49318ae30  864eb466462bf704bf7a16a585ef296a   \n",
       "2  32943bb1063267de6ed19fc0ceb4b9a7  37f85135259ece793213aca9d8765542   \n",
       "3  bb18f409abda2f264d5acda8cab577a9  2133fc46f951f1e7d60645b0f9e48a6c   \n",
       "4  24761b686e18e5eace634607acbcc19f  867ff478a63f5457eaf41049536c47cd   \n",
       "\n",
       "                           schoolid   school_ncesid  school_latitude  \\\n",
       "0  c0e6ce89b244764085691a1b8e28cb81   63627006187.0        36.576340   \n",
       "1  d711e47810900c96f26a5d0be30c446d  483702008193.0        32.911179   \n",
       "2  665c3613013ba0a66e3a2a26b89f1b68  410327000109.0        45.166039   \n",
       "3  4f12c3fa0c1cce823c7ba1df57e90ccb  360015302507.0        40.641727   \n",
       "4  10179fd362d7b8cf0e89baa1ca3025bb   62271003157.0        34.043939   \n",
       "\n",
       "   school_longitude  school_city school_state school_zip school_metro  \\\n",
       "0       -119.608713        Selma           CA    93662.0          NaN   \n",
       "1        -96.723640       Dallas           TX    75243.0        urban   \n",
       "2       -122.414576       Colton           OR    97017.0        rural   \n",
       "3        -73.965655     Brooklyn           NY    11226.0        urban   \n",
       "4       -118.288371  Los Angeles           CA    90006.0        urban   \n",
       "\n",
       "        ...        school_county_great_chat  \\\n",
       "0       ...                        0.397624   \n",
       "1       ...                        0.267835   \n",
       "2       ...                        0.411276   \n",
       "3       ...                        0.335476   \n",
       "4       ...                        0.219667   \n",
       "\n",
       "  school_county_one_or_more_required school_county_count  \\\n",
       "0                           0.634102                 575   \n",
       "1                           0.669484                5533   \n",
       "2                           0.754846                 186   \n",
       "3                           0.698716                9921   \n",
       "4                           0.697394               41797   \n",
       "\n",
       "  school_zip_is_exciting school_zip_at_least_1_teacher_referred_donor  \\\n",
       "0               0.110160                                     0.227105   \n",
       "1               0.127048                                     0.360304   \n",
       "2               0.062834                                     0.223136   \n",
       "3               0.161973                                     0.367700   \n",
       "4               0.028688                                     0.244311   \n",
       "\n",
       "  school_zip_fully_funded school_zip_at_least_1_green_donation  \\\n",
       "0                0.514694                             0.399165   \n",
       "1                0.627962                             0.604670   \n",
       "2                0.572279                             0.498261   \n",
       "3                0.776968                             0.787306   \n",
       "4                0.653882                             0.578731   \n",
       "\n",
       "  school_zip_great_chat school_zip_one_or_more_required school_zip_count  \n",
       "0              0.313353                        0.480658               15  \n",
       "1              0.305111                        0.621100              114  \n",
       "2              0.236151                        0.584703                2  \n",
       "3              0.421375                        0.767496              291  \n",
       "4              0.109304                        0.690097              574  \n",
       "\n",
       "[5 rows x 100 columns]"
      ]
     },
     "execution_count": 24,
     "metadata": {},
     "output_type": "execute_result"
    }
   ],
   "source": [
    "origin_df = df\n",
    "example = get_full_df()\n",
    "example.head()\n",
    "#data = df[(df['cat']=='train')|(df['cat']=='val')]"
   ]
  },
  {
   "cell_type": "code",
   "execution_count": 25,
   "metadata": {
    "collapsed": true
   },
   "outputs": [],
   "source": [
    "example.to_csv('df_data.csv')"
   ]
  },
  {
   "cell_type": "code",
   "execution_count": 26,
   "metadata": {
    "collapsed": false
   },
   "outputs": [
    {
     "data": {
      "text/html": [
       "<div>\n",
       "<table border=\"1\" class=\"dataframe\">\n",
       "  <thead>\n",
       "    <tr style=\"text-align: right;\">\n",
       "      <th></th>\n",
       "      <th>projectid</th>\n",
       "      <th>teacher_acctid</th>\n",
       "      <th>schoolid</th>\n",
       "      <th>school_ncesid</th>\n",
       "      <th>school_latitude</th>\n",
       "      <th>school_longitude</th>\n",
       "      <th>school_city</th>\n",
       "      <th>school_state</th>\n",
       "      <th>school_zip</th>\n",
       "      <th>school_metro</th>\n",
       "      <th>...</th>\n",
       "      <th>one_non_teacher_referred_donor_giving_100_plus</th>\n",
       "      <th>donation_from_thoughtful_donor</th>\n",
       "      <th>great_messages_proportion</th>\n",
       "      <th>teacher_referred_count</th>\n",
       "      <th>non_teacher_referred_count</th>\n",
       "      <th>cat</th>\n",
       "      <th>one_or_more_required</th>\n",
       "      <th>year</th>\n",
       "      <th>month</th>\n",
       "      <th>day</th>\n",
       "    </tr>\n",
       "  </thead>\n",
       "  <tbody>\n",
       "    <tr>\n",
       "      <th>0</th>\n",
       "      <td>316ed8fb3b81402ff6ac8f721bb31192</td>\n",
       "      <td>42d43fa6f37314365d08692e08680973</td>\n",
       "      <td>c0e6ce89b244764085691a1b8e28cb81</td>\n",
       "      <td>63627006187.0</td>\n",
       "      <td>36.576340</td>\n",
       "      <td>-119.608713</td>\n",
       "      <td>Selma</td>\n",
       "      <td>CA</td>\n",
       "      <td>93662.0</td>\n",
       "      <td>NaN</td>\n",
       "      <td>...</td>\n",
       "      <td>0</td>\n",
       "      <td>0</td>\n",
       "      <td>NaN</td>\n",
       "      <td>0.0</td>\n",
       "      <td>0.0</td>\n",
       "      <td>test</td>\n",
       "      <td>0</td>\n",
       "      <td>2014</td>\n",
       "      <td>05</td>\n",
       "      <td>12</td>\n",
       "    </tr>\n",
       "    <tr>\n",
       "      <th>1</th>\n",
       "      <td>90de744e368a7e4883223ca49318ae30</td>\n",
       "      <td>864eb466462bf704bf7a16a585ef296a</td>\n",
       "      <td>d711e47810900c96f26a5d0be30c446d</td>\n",
       "      <td>483702008193.0</td>\n",
       "      <td>32.911179</td>\n",
       "      <td>-96.723640</td>\n",
       "      <td>Dallas</td>\n",
       "      <td>TX</td>\n",
       "      <td>75243.0</td>\n",
       "      <td>urban</td>\n",
       "      <td>...</td>\n",
       "      <td>0</td>\n",
       "      <td>0</td>\n",
       "      <td>NaN</td>\n",
       "      <td>0.0</td>\n",
       "      <td>0.0</td>\n",
       "      <td>test</td>\n",
       "      <td>0</td>\n",
       "      <td>2014</td>\n",
       "      <td>05</td>\n",
       "      <td>12</td>\n",
       "    </tr>\n",
       "    <tr>\n",
       "      <th>2</th>\n",
       "      <td>32943bb1063267de6ed19fc0ceb4b9a7</td>\n",
       "      <td>37f85135259ece793213aca9d8765542</td>\n",
       "      <td>665c3613013ba0a66e3a2a26b89f1b68</td>\n",
       "      <td>410327000109.0</td>\n",
       "      <td>45.166039</td>\n",
       "      <td>-122.414576</td>\n",
       "      <td>Colton</td>\n",
       "      <td>OR</td>\n",
       "      <td>97017.0</td>\n",
       "      <td>rural</td>\n",
       "      <td>...</td>\n",
       "      <td>0</td>\n",
       "      <td>0</td>\n",
       "      <td>NaN</td>\n",
       "      <td>0.0</td>\n",
       "      <td>0.0</td>\n",
       "      <td>test</td>\n",
       "      <td>0</td>\n",
       "      <td>2014</td>\n",
       "      <td>05</td>\n",
       "      <td>11</td>\n",
       "    </tr>\n",
       "    <tr>\n",
       "      <th>3</th>\n",
       "      <td>bb18f409abda2f264d5acda8cab577a9</td>\n",
       "      <td>2133fc46f951f1e7d60645b0f9e48a6c</td>\n",
       "      <td>4f12c3fa0c1cce823c7ba1df57e90ccb</td>\n",
       "      <td>360015302507.0</td>\n",
       "      <td>40.641727</td>\n",
       "      <td>-73.965655</td>\n",
       "      <td>Brooklyn</td>\n",
       "      <td>NY</td>\n",
       "      <td>11226.0</td>\n",
       "      <td>urban</td>\n",
       "      <td>...</td>\n",
       "      <td>0</td>\n",
       "      <td>0</td>\n",
       "      <td>NaN</td>\n",
       "      <td>0.0</td>\n",
       "      <td>0.0</td>\n",
       "      <td>test</td>\n",
       "      <td>0</td>\n",
       "      <td>2014</td>\n",
       "      <td>05</td>\n",
       "      <td>11</td>\n",
       "    </tr>\n",
       "    <tr>\n",
       "      <th>4</th>\n",
       "      <td>24761b686e18e5eace634607acbcc19f</td>\n",
       "      <td>867ff478a63f5457eaf41049536c47cd</td>\n",
       "      <td>10179fd362d7b8cf0e89baa1ca3025bb</td>\n",
       "      <td>62271003157.0</td>\n",
       "      <td>34.043939</td>\n",
       "      <td>-118.288371</td>\n",
       "      <td>Los Angeles</td>\n",
       "      <td>CA</td>\n",
       "      <td>90006.0</td>\n",
       "      <td>urban</td>\n",
       "      <td>...</td>\n",
       "      <td>0</td>\n",
       "      <td>0</td>\n",
       "      <td>NaN</td>\n",
       "      <td>0.0</td>\n",
       "      <td>0.0</td>\n",
       "      <td>test</td>\n",
       "      <td>0</td>\n",
       "      <td>2014</td>\n",
       "      <td>05</td>\n",
       "      <td>11</td>\n",
       "    </tr>\n",
       "  </tbody>\n",
       "</table>\n",
       "<p>5 rows × 51 columns</p>\n",
       "</div>"
      ],
      "text/plain": [
       "                          projectid                    teacher_acctid  \\\n",
       "0  316ed8fb3b81402ff6ac8f721bb31192  42d43fa6f37314365d08692e08680973   \n",
       "1  90de744e368a7e4883223ca49318ae30  864eb466462bf704bf7a16a585ef296a   \n",
       "2  32943bb1063267de6ed19fc0ceb4b9a7  37f85135259ece793213aca9d8765542   \n",
       "3  bb18f409abda2f264d5acda8cab577a9  2133fc46f951f1e7d60645b0f9e48a6c   \n",
       "4  24761b686e18e5eace634607acbcc19f  867ff478a63f5457eaf41049536c47cd   \n",
       "\n",
       "                           schoolid   school_ncesid  school_latitude  \\\n",
       "0  c0e6ce89b244764085691a1b8e28cb81   63627006187.0        36.576340   \n",
       "1  d711e47810900c96f26a5d0be30c446d  483702008193.0        32.911179   \n",
       "2  665c3613013ba0a66e3a2a26b89f1b68  410327000109.0        45.166039   \n",
       "3  4f12c3fa0c1cce823c7ba1df57e90ccb  360015302507.0        40.641727   \n",
       "4  10179fd362d7b8cf0e89baa1ca3025bb   62271003157.0        34.043939   \n",
       "\n",
       "   school_longitude  school_city school_state school_zip school_metro ...  \\\n",
       "0       -119.608713        Selma           CA    93662.0          NaN ...   \n",
       "1        -96.723640       Dallas           TX    75243.0        urban ...   \n",
       "2       -122.414576       Colton           OR    97017.0        rural ...   \n",
       "3        -73.965655     Brooklyn           NY    11226.0        urban ...   \n",
       "4       -118.288371  Los Angeles           CA    90006.0        urban ...   \n",
       "\n",
       "  one_non_teacher_referred_donor_giving_100_plus  \\\n",
       "0                                              0   \n",
       "1                                              0   \n",
       "2                                              0   \n",
       "3                                              0   \n",
       "4                                              0   \n",
       "\n",
       "  donation_from_thoughtful_donor great_messages_proportion  \\\n",
       "0                              0                       NaN   \n",
       "1                              0                       NaN   \n",
       "2                              0                       NaN   \n",
       "3                              0                       NaN   \n",
       "4                              0                       NaN   \n",
       "\n",
       "  teacher_referred_count non_teacher_referred_count   cat  \\\n",
       "0                    0.0                        0.0  test   \n",
       "1                    0.0                        0.0  test   \n",
       "2                    0.0                        0.0  test   \n",
       "3                    0.0                        0.0  test   \n",
       "4                    0.0                        0.0  test   \n",
       "\n",
       "  one_or_more_required  year month day  \n",
       "0                    0  2014    05  12  \n",
       "1                    0  2014    05  12  \n",
       "2                    0  2014    05  11  \n",
       "3                    0  2014    05  11  \n",
       "4                    0  2014    05  11  \n",
       "\n",
       "[5 rows x 51 columns]"
      ]
     },
     "execution_count": 26,
     "metadata": {},
     "output_type": "execute_result"
    }
   ],
   "source": [
    "df.head()"
   ]
  },
  {
   "cell_type": "code",
   "execution_count": 27,
   "metadata": {
    "collapsed": false
   },
   "outputs": [
    {
     "name": "stdout",
     "output_type": "stream",
     "text": [
      "(3097989, 21)\n"
     ]
    }
   ],
   "source": [
    "donations = pd.read_csv('./data/donations.csv')\n",
    "print(donations.shape)"
   ]
  },
  {
   "cell_type": "code",
   "execution_count": 28,
   "metadata": {
    "collapsed": false,
    "scrolled": true
   },
   "outputs": [
    {
     "name": "stderr",
     "output_type": "stream",
     "text": [
      "/Users/hang/anaconda/lib/python3.5/site-packages/ipykernel/__main__.py:1: SettingWithCopyWarning: \n",
      "A value is trying to be set on a copy of a slice from a DataFrame\n",
      "\n",
      "See the caveats in the documentation: http://pandas.pydata.org/pandas-docs/stable/indexing.html#indexing-view-versus-copy\n",
      "  if __name__ == '__main__':\n",
      "/Users/hang/anaconda/lib/python3.5/site-packages/ipykernel/__main__.py:2: SettingWithCopyWarning: \n",
      "A value is trying to be set on a copy of a slice from a DataFrame\n",
      "\n",
      "See the caveats in the documentation: http://pandas.pydata.org/pandas-docs/stable/indexing.html#indexing-view-versus-copy\n",
      "  from ipykernel import kernelapp as app\n"
     ]
    }
   ],
   "source": [
    "donations['is_teacher_acct'][donations[\"is_teacher_acct\"]==\"t\"] = 1.0\n",
    "donations['is_teacher_acct'][donations[\"is_teacher_acct\"]==\"f\"] = 0.0"
   ]
  },
  {
   "cell_type": "code",
   "execution_count": 29,
   "metadata": {
    "collapsed": false
   },
   "outputs": [],
   "source": [
    "donations = donations[['projectid','is_teacher_acct','donation_total']]\n",
    "donations['is_teacher_acct'] = donations['is_teacher_acct'].astype(float)\n",
    "donations_sum = donations.groupby(by='projectid',as_index=False).sum()"
   ]
  },
  {
   "cell_type": "code",
   "execution_count": 30,
   "metadata": {
    "collapsed": false
   },
   "outputs": [
    {
     "name": "stdout",
     "output_type": "stream",
     "text": [
      "(467620, 5)\n",
      "(467620, 51)\n"
     ]
    },
    {
     "data": {
      "text/html": [
       "<div>\n",
       "<table border=\"1\" class=\"dataframe\">\n",
       "  <thead>\n",
       "    <tr style=\"text-align: right;\">\n",
       "      <th></th>\n",
       "      <th>projectid</th>\n",
       "      <th>teacher_acctid</th>\n",
       "      <th>schoolid</th>\n",
       "      <th>is_teacher_acct</th>\n",
       "      <th>donation_total</th>\n",
       "    </tr>\n",
       "  </thead>\n",
       "  <tbody>\n",
       "    <tr>\n",
       "      <th>0</th>\n",
       "      <td>316ed8fb3b81402ff6ac8f721bb31192</td>\n",
       "      <td>42d43fa6f37314365d08692e08680973</td>\n",
       "      <td>c0e6ce89b244764085691a1b8e28cb81</td>\n",
       "      <td>NaN</td>\n",
       "      <td>NaN</td>\n",
       "    </tr>\n",
       "    <tr>\n",
       "      <th>1</th>\n",
       "      <td>90de744e368a7e4883223ca49318ae30</td>\n",
       "      <td>864eb466462bf704bf7a16a585ef296a</td>\n",
       "      <td>d711e47810900c96f26a5d0be30c446d</td>\n",
       "      <td>NaN</td>\n",
       "      <td>NaN</td>\n",
       "    </tr>\n",
       "    <tr>\n",
       "      <th>2</th>\n",
       "      <td>32943bb1063267de6ed19fc0ceb4b9a7</td>\n",
       "      <td>37f85135259ece793213aca9d8765542</td>\n",
       "      <td>665c3613013ba0a66e3a2a26b89f1b68</td>\n",
       "      <td>NaN</td>\n",
       "      <td>NaN</td>\n",
       "    </tr>\n",
       "    <tr>\n",
       "      <th>3</th>\n",
       "      <td>bb18f409abda2f264d5acda8cab577a9</td>\n",
       "      <td>2133fc46f951f1e7d60645b0f9e48a6c</td>\n",
       "      <td>4f12c3fa0c1cce823c7ba1df57e90ccb</td>\n",
       "      <td>NaN</td>\n",
       "      <td>NaN</td>\n",
       "    </tr>\n",
       "    <tr>\n",
       "      <th>4</th>\n",
       "      <td>24761b686e18e5eace634607acbcc19f</td>\n",
       "      <td>867ff478a63f5457eaf41049536c47cd</td>\n",
       "      <td>10179fd362d7b8cf0e89baa1ca3025bb</td>\n",
       "      <td>NaN</td>\n",
       "      <td>NaN</td>\n",
       "    </tr>\n",
       "  </tbody>\n",
       "</table>\n",
       "</div>"
      ],
      "text/plain": [
       "                          projectid                    teacher_acctid  \\\n",
       "0  316ed8fb3b81402ff6ac8f721bb31192  42d43fa6f37314365d08692e08680973   \n",
       "1  90de744e368a7e4883223ca49318ae30  864eb466462bf704bf7a16a585ef296a   \n",
       "2  32943bb1063267de6ed19fc0ceb4b9a7  37f85135259ece793213aca9d8765542   \n",
       "3  bb18f409abda2f264d5acda8cab577a9  2133fc46f951f1e7d60645b0f9e48a6c   \n",
       "4  24761b686e18e5eace634607acbcc19f  867ff478a63f5457eaf41049536c47cd   \n",
       "\n",
       "                           schoolid  is_teacher_acct  donation_total  \n",
       "0  c0e6ce89b244764085691a1b8e28cb81              NaN             NaN  \n",
       "1  d711e47810900c96f26a5d0be30c446d              NaN             NaN  \n",
       "2  665c3613013ba0a66e3a2a26b89f1b68              NaN             NaN  \n",
       "3  4f12c3fa0c1cce823c7ba1df57e90ccb              NaN             NaN  \n",
       "4  10179fd362d7b8cf0e89baa1ca3025bb              NaN             NaN  "
      ]
     },
     "execution_count": 30,
     "metadata": {},
     "output_type": "execute_result"
    }
   ],
   "source": [
    "donate = pd.merge(df[['projectid','teacher_acctid','schoolid']],donations_sum,how='left',on='projectid')\n",
    "print(donate.shape)\n",
    "print(df.shape)\n",
    "donate.head()"
   ]
  },
  {
   "cell_type": "code",
   "execution_count": 31,
   "metadata": {
    "collapsed": false
   },
   "outputs": [
    {
     "name": "stdout",
     "output_type": "stream",
     "text": [
      "(467620, 5)\n"
     ]
    },
    {
     "name": "stderr",
     "output_type": "stream",
     "text": [
      "/Users/hang/anaconda/lib/python3.5/site-packages/ipykernel/__main__.py:6: SettingWithCopyWarning: \n",
      "A value is trying to be set on a copy of a slice from a DataFrame\n",
      "\n",
      "See the caveats in the documentation: http://pandas.pydata.org/pandas-docs/stable/indexing.html#indexing-view-versus-copy\n",
      "/Users/hang/anaconda/lib/python3.5/site-packages/ipykernel/__main__.py:7: SettingWithCopyWarning: \n",
      "A value is trying to be set on a copy of a slice from a DataFrame\n",
      "\n",
      "See the caveats in the documentation: http://pandas.pydata.org/pandas-docs/stable/indexing.html#indexing-view-versus-copy\n"
     ]
    },
    {
     "data": {
      "text/html": [
       "<div>\n",
       "<table border=\"1\" class=\"dataframe\">\n",
       "  <thead>\n",
       "    <tr style=\"text-align: right;\">\n",
       "      <th></th>\n",
       "      <th>projectid</th>\n",
       "      <th>teacher_acctid_is_teacher_acct_donor</th>\n",
       "      <th>teacher_acctid_donor_donation_total_donor</th>\n",
       "      <th>teacher_acctid_count_donor</th>\n",
       "    </tr>\n",
       "  </thead>\n",
       "  <tbody>\n",
       "    <tr>\n",
       "      <th>0</th>\n",
       "      <td>316ed8fb3b81402ff6ac8f721bb31192</td>\n",
       "      <td>0.000000</td>\n",
       "      <td>0.000000</td>\n",
       "      <td>1</td>\n",
       "    </tr>\n",
       "    <tr>\n",
       "      <th>1</th>\n",
       "      <td>90de744e368a7e4883223ca49318ae30</td>\n",
       "      <td>0.285714</td>\n",
       "      <td>184.586429</td>\n",
       "      <td>14</td>\n",
       "    </tr>\n",
       "    <tr>\n",
       "      <th>2</th>\n",
       "      <td>32943bb1063267de6ed19fc0ceb4b9a7</td>\n",
       "      <td>NaN</td>\n",
       "      <td>NaN</td>\n",
       "      <td>2</td>\n",
       "    </tr>\n",
       "    <tr>\n",
       "      <th>3</th>\n",
       "      <td>bb18f409abda2f264d5acda8cab577a9</td>\n",
       "      <td>0.333333</td>\n",
       "      <td>357.548095</td>\n",
       "      <td>21</td>\n",
       "    </tr>\n",
       "    <tr>\n",
       "      <th>4</th>\n",
       "      <td>24761b686e18e5eace634607acbcc19f</td>\n",
       "      <td>7.157895</td>\n",
       "      <td>534.897105</td>\n",
       "      <td>38</td>\n",
       "    </tr>\n",
       "  </tbody>\n",
       "</table>\n",
       "</div>"
      ],
      "text/plain": [
       "                          projectid  teacher_acctid_is_teacher_acct_donor  \\\n",
       "0  316ed8fb3b81402ff6ac8f721bb31192                              0.000000   \n",
       "1  90de744e368a7e4883223ca49318ae30                              0.285714   \n",
       "2  32943bb1063267de6ed19fc0ceb4b9a7                                   NaN   \n",
       "3  bb18f409abda2f264d5acda8cab577a9                              0.333333   \n",
       "4  24761b686e18e5eace634607acbcc19f                              7.157895   \n",
       "\n",
       "   teacher_acctid_donor_donation_total_donor  teacher_acctid_count_donor  \n",
       "0                                   0.000000                           1  \n",
       "1                                 184.586429                          14  \n",
       "2                                        NaN                           2  \n",
       "3                                 357.548095                          21  \n",
       "4                                 534.897105                          38  "
      ]
     },
     "execution_count": 31,
     "metadata": {},
     "output_type": "execute_result"
    }
   ],
   "source": [
    "donation_df = donate\n",
    "print(donation_df.shape)\n",
    "donor_sum = calculate_sum(donation_df,'teacher_acctid')\n",
    "donor_sum['is_teacher_acct'] = donor_sum['is_teacher_acct']/donor_sum['count']\n",
    "donor_sum['donation_total'] = donor_sum['donation_total']/donor_sum['count']\n",
    "donor_sum['is_teacher_acct'][donor_sum['count']==1] = 0.0\n",
    "donor_sum['donation_total'][donor_sum['count']==1] = 0.0\n",
    "donor_sum.rename(columns={'count': \"\".join('teacher_acctid'+'_count_donor')}, inplace=True)\n",
    "donor_sum.rename(columns={'is_teacher_acct': \"\".join('teacher_acctid'+'_is_teacher_acct_donor')}, inplace=True)\n",
    "donor_sum.rename(columns={'donation_total': \"\".join('teacher_acctid_donor'+'_donation_total_donor')}, inplace=True)\n",
    "donor_sum.drop('teacher_acctid',axis=1,inplace=True)\n",
    "donor_sum.head()"
   ]
  },
  {
   "cell_type": "code",
   "execution_count": 32,
   "metadata": {
    "collapsed": false
   },
   "outputs": [],
   "source": [
    "ids = df[['projectid','teacher_acctid','schoolid']]\n",
    "donate_data = pd.merge(ids,donor_sum,how='left',on='projectid')"
   ]
  },
  {
   "cell_type": "code",
   "execution_count": 33,
   "metadata": {
    "collapsed": false
   },
   "outputs": [
    {
     "name": "stdout",
     "output_type": "stream",
     "text": [
      "(467620, 6)\n",
      "(467620, 4)\n"
     ]
    },
    {
     "data": {
      "text/html": [
       "<div>\n",
       "<table border=\"1\" class=\"dataframe\">\n",
       "  <thead>\n",
       "    <tr style=\"text-align: right;\">\n",
       "      <th></th>\n",
       "      <th>projectid</th>\n",
       "      <th>teacher_acctid</th>\n",
       "      <th>schoolid</th>\n",
       "      <th>teacher_acctid_is_teacher_acct_donor</th>\n",
       "      <th>teacher_acctid_donor_donation_total_donor</th>\n",
       "      <th>teacher_acctid_count_donor</th>\n",
       "    </tr>\n",
       "  </thead>\n",
       "  <tbody>\n",
       "    <tr>\n",
       "      <th>0</th>\n",
       "      <td>316ed8fb3b81402ff6ac8f721bb31192</td>\n",
       "      <td>42d43fa6f37314365d08692e08680973</td>\n",
       "      <td>c0e6ce89b244764085691a1b8e28cb81</td>\n",
       "      <td>0.000000</td>\n",
       "      <td>0.000000</td>\n",
       "      <td>1</td>\n",
       "    </tr>\n",
       "    <tr>\n",
       "      <th>1</th>\n",
       "      <td>90de744e368a7e4883223ca49318ae30</td>\n",
       "      <td>864eb466462bf704bf7a16a585ef296a</td>\n",
       "      <td>d711e47810900c96f26a5d0be30c446d</td>\n",
       "      <td>0.285714</td>\n",
       "      <td>184.586429</td>\n",
       "      <td>14</td>\n",
       "    </tr>\n",
       "    <tr>\n",
       "      <th>2</th>\n",
       "      <td>32943bb1063267de6ed19fc0ceb4b9a7</td>\n",
       "      <td>37f85135259ece793213aca9d8765542</td>\n",
       "      <td>665c3613013ba0a66e3a2a26b89f1b68</td>\n",
       "      <td>NaN</td>\n",
       "      <td>NaN</td>\n",
       "      <td>2</td>\n",
       "    </tr>\n",
       "    <tr>\n",
       "      <th>3</th>\n",
       "      <td>bb18f409abda2f264d5acda8cab577a9</td>\n",
       "      <td>2133fc46f951f1e7d60645b0f9e48a6c</td>\n",
       "      <td>4f12c3fa0c1cce823c7ba1df57e90ccb</td>\n",
       "      <td>0.333333</td>\n",
       "      <td>357.548095</td>\n",
       "      <td>21</td>\n",
       "    </tr>\n",
       "    <tr>\n",
       "      <th>4</th>\n",
       "      <td>24761b686e18e5eace634607acbcc19f</td>\n",
       "      <td>867ff478a63f5457eaf41049536c47cd</td>\n",
       "      <td>10179fd362d7b8cf0e89baa1ca3025bb</td>\n",
       "      <td>7.157895</td>\n",
       "      <td>534.897105</td>\n",
       "      <td>38</td>\n",
       "    </tr>\n",
       "  </tbody>\n",
       "</table>\n",
       "</div>"
      ],
      "text/plain": [
       "                          projectid                    teacher_acctid  \\\n",
       "0  316ed8fb3b81402ff6ac8f721bb31192  42d43fa6f37314365d08692e08680973   \n",
       "1  90de744e368a7e4883223ca49318ae30  864eb466462bf704bf7a16a585ef296a   \n",
       "2  32943bb1063267de6ed19fc0ceb4b9a7  37f85135259ece793213aca9d8765542   \n",
       "3  bb18f409abda2f264d5acda8cab577a9  2133fc46f951f1e7d60645b0f9e48a6c   \n",
       "4  24761b686e18e5eace634607acbcc19f  867ff478a63f5457eaf41049536c47cd   \n",
       "\n",
       "                           schoolid  teacher_acctid_is_teacher_acct_donor  \\\n",
       "0  c0e6ce89b244764085691a1b8e28cb81                              0.000000   \n",
       "1  d711e47810900c96f26a5d0be30c446d                              0.285714   \n",
       "2  665c3613013ba0a66e3a2a26b89f1b68                                   NaN   \n",
       "3  4f12c3fa0c1cce823c7ba1df57e90ccb                              0.333333   \n",
       "4  10179fd362d7b8cf0e89baa1ca3025bb                              7.157895   \n",
       "\n",
       "   teacher_acctid_donor_donation_total_donor  teacher_acctid_count_donor  \n",
       "0                                   0.000000                           1  \n",
       "1                                 184.586429                          14  \n",
       "2                                        NaN                           2  \n",
       "3                                 357.548095                          21  \n",
       "4                                 534.897105                          38  "
      ]
     },
     "execution_count": 33,
     "metadata": {},
     "output_type": "execute_result"
    }
   ],
   "source": [
    "print(donate_data.shape)\n",
    "print(donor_sum.shape)\n",
    "donate_data.head()"
   ]
  },
  {
   "cell_type": "code",
   "execution_count": 34,
   "metadata": {
    "collapsed": false
   },
   "outputs": [
    {
     "name": "stderr",
     "output_type": "stream",
     "text": [
      "/Users/hang/anaconda/lib/python3.5/site-packages/ipykernel/__main__.py:4: SettingWithCopyWarning: \n",
      "A value is trying to be set on a copy of a slice from a DataFrame\n",
      "\n",
      "See the caveats in the documentation: http://pandas.pydata.org/pandas-docs/stable/indexing.html#indexing-view-versus-copy\n",
      "/Users/hang/anaconda/lib/python3.5/site-packages/ipykernel/__main__.py:5: SettingWithCopyWarning: \n",
      "A value is trying to be set on a copy of a slice from a DataFrame\n",
      "\n",
      "See the caveats in the documentation: http://pandas.pydata.org/pandas-docs/stable/indexing.html#indexing-view-versus-copy\n"
     ]
    }
   ],
   "source": [
    "donor_sum_2 = calculate_sum(donation_df,'schoolid')\n",
    "donor_sum_2['is_teacher_acct'] = donor_sum_2['is_teacher_acct']/donor_sum_2['count']\n",
    "donor_sum_2['donation_total'] = donor_sum_2['donation_total']/donor_sum_2['count']\n",
    "donor_sum_2['is_teacher_acct'][donor_sum_2['count']==1] = 0.0\n",
    "donor_sum_2['donation_total'][donor_sum_2['count']==1] = 0.0\n",
    "donor_sum_2.rename(columns={'count': \"\".join('schoolid'+'_count_donor')}, inplace=True)\n",
    "donor_sum_2.rename(columns={'is_teacher_acct': \"\".join('schoolid'+'_is_teacher_acct_donor')}, inplace=True)\n",
    "donor_sum_2.rename(columns={'donation_total': \"\".join('schoolid'+'_donation_total_donor')}, inplace=True)\n",
    "donor_sum_2.drop('schoolid',axis=1,inplace=True)\n",
    "donate_data = pd.merge(donate_data,donor_sum_2,how='left',on='projectid')"
   ]
  },
  {
   "cell_type": "code",
   "execution_count": 35,
   "metadata": {
    "collapsed": false
   },
   "outputs": [
    {
     "data": {
      "text/html": [
       "<div>\n",
       "<table border=\"1\" class=\"dataframe\">\n",
       "  <thead>\n",
       "    <tr style=\"text-align: right;\">\n",
       "      <th></th>\n",
       "      <th>projectid</th>\n",
       "      <th>teacher_acctid</th>\n",
       "      <th>schoolid</th>\n",
       "      <th>teacher_acctid_is_teacher_acct_donor</th>\n",
       "      <th>teacher_acctid_donor_donation_total_donor</th>\n",
       "      <th>teacher_acctid_count_donor</th>\n",
       "      <th>schoolid_is_teacher_acct_donor</th>\n",
       "      <th>schoolid_donation_total_donor</th>\n",
       "      <th>schoolid_count_donor</th>\n",
       "    </tr>\n",
       "  </thead>\n",
       "  <tbody>\n",
       "    <tr>\n",
       "      <th>0</th>\n",
       "      <td>316ed8fb3b81402ff6ac8f721bb31192</td>\n",
       "      <td>42d43fa6f37314365d08692e08680973</td>\n",
       "      <td>c0e6ce89b244764085691a1b8e28cb81</td>\n",
       "      <td>0.000000</td>\n",
       "      <td>0.000000</td>\n",
       "      <td>1</td>\n",
       "      <td>0.000000</td>\n",
       "      <td>260.805000</td>\n",
       "      <td>4</td>\n",
       "    </tr>\n",
       "    <tr>\n",
       "      <th>1</th>\n",
       "      <td>90de744e368a7e4883223ca49318ae30</td>\n",
       "      <td>864eb466462bf704bf7a16a585ef296a</td>\n",
       "      <td>d711e47810900c96f26a5d0be30c446d</td>\n",
       "      <td>0.285714</td>\n",
       "      <td>184.586429</td>\n",
       "      <td>14</td>\n",
       "      <td>0.541667</td>\n",
       "      <td>388.840625</td>\n",
       "      <td>48</td>\n",
       "    </tr>\n",
       "    <tr>\n",
       "      <th>2</th>\n",
       "      <td>32943bb1063267de6ed19fc0ceb4b9a7</td>\n",
       "      <td>37f85135259ece793213aca9d8765542</td>\n",
       "      <td>665c3613013ba0a66e3a2a26b89f1b68</td>\n",
       "      <td>0.000000</td>\n",
       "      <td>0.000000</td>\n",
       "      <td>2</td>\n",
       "      <td>0.000000</td>\n",
       "      <td>0.000000</td>\n",
       "      <td>2</td>\n",
       "    </tr>\n",
       "    <tr>\n",
       "      <th>3</th>\n",
       "      <td>bb18f409abda2f264d5acda8cab577a9</td>\n",
       "      <td>2133fc46f951f1e7d60645b0f9e48a6c</td>\n",
       "      <td>4f12c3fa0c1cce823c7ba1df57e90ccb</td>\n",
       "      <td>0.333333</td>\n",
       "      <td>357.548095</td>\n",
       "      <td>21</td>\n",
       "      <td>0.312195</td>\n",
       "      <td>418.304829</td>\n",
       "      <td>205</td>\n",
       "    </tr>\n",
       "    <tr>\n",
       "      <th>4</th>\n",
       "      <td>24761b686e18e5eace634607acbcc19f</td>\n",
       "      <td>867ff478a63f5457eaf41049536c47cd</td>\n",
       "      <td>10179fd362d7b8cf0e89baa1ca3025bb</td>\n",
       "      <td>7.157895</td>\n",
       "      <td>534.897105</td>\n",
       "      <td>38</td>\n",
       "      <td>1.513514</td>\n",
       "      <td>419.007523</td>\n",
       "      <td>444</td>\n",
       "    </tr>\n",
       "  </tbody>\n",
       "</table>\n",
       "</div>"
      ],
      "text/plain": [
       "                          projectid                    teacher_acctid  \\\n",
       "0  316ed8fb3b81402ff6ac8f721bb31192  42d43fa6f37314365d08692e08680973   \n",
       "1  90de744e368a7e4883223ca49318ae30  864eb466462bf704bf7a16a585ef296a   \n",
       "2  32943bb1063267de6ed19fc0ceb4b9a7  37f85135259ece793213aca9d8765542   \n",
       "3  bb18f409abda2f264d5acda8cab577a9  2133fc46f951f1e7d60645b0f9e48a6c   \n",
       "4  24761b686e18e5eace634607acbcc19f  867ff478a63f5457eaf41049536c47cd   \n",
       "\n",
       "                           schoolid  teacher_acctid_is_teacher_acct_donor  \\\n",
       "0  c0e6ce89b244764085691a1b8e28cb81                              0.000000   \n",
       "1  d711e47810900c96f26a5d0be30c446d                              0.285714   \n",
       "2  665c3613013ba0a66e3a2a26b89f1b68                              0.000000   \n",
       "3  4f12c3fa0c1cce823c7ba1df57e90ccb                              0.333333   \n",
       "4  10179fd362d7b8cf0e89baa1ca3025bb                              7.157895   \n",
       "\n",
       "   teacher_acctid_donor_donation_total_donor  teacher_acctid_count_donor  \\\n",
       "0                                   0.000000                           1   \n",
       "1                                 184.586429                          14   \n",
       "2                                   0.000000                           2   \n",
       "3                                 357.548095                          21   \n",
       "4                                 534.897105                          38   \n",
       "\n",
       "   schoolid_is_teacher_acct_donor  schoolid_donation_total_donor  \\\n",
       "0                        0.000000                     260.805000   \n",
       "1                        0.541667                     388.840625   \n",
       "2                        0.000000                       0.000000   \n",
       "3                        0.312195                     418.304829   \n",
       "4                        1.513514                     419.007523   \n",
       "\n",
       "   schoolid_count_donor  \n",
       "0                     4  \n",
       "1                    48  \n",
       "2                     2  \n",
       "3                   205  \n",
       "4                   444  "
      ]
     },
     "execution_count": 35,
     "metadata": {},
     "output_type": "execute_result"
    }
   ],
   "source": [
    "donate_data.fillna(0,inplace=True)\n",
    "donate_data.head()"
   ]
  },
  {
   "cell_type": "code",
   "execution_count": 36,
   "metadata": {
    "collapsed": false
   },
   "outputs": [],
   "source": [
    "# for test all those 5 are zeros, but cost and item are calculated given the information in the project\n",
    "#df[df['cat']=='test'][requirements_columns]\n",
    "donate_data.to_csv('donation_data.csv')"
   ]
  },
  {
   "cell_type": "code",
   "execution_count": null,
   "metadata": {
    "collapsed": true
   },
   "outputs": [],
   "source": []
  },
  {
   "cell_type": "code",
   "execution_count": 37,
   "metadata": {
    "collapsed": false
   },
   "outputs": [
    {
     "name": "stdout",
     "output_type": "stream",
     "text": [
      "(3667217, 9)\n",
      "(467620, 51)\n"
     ]
    }
   ],
   "source": [
    "resources = pd.read_csv('./data/resources.csv')\n",
    "print(resources.shape)\n",
    "resources['cost'] = resources['item_unit_price']*resources['item_quantity']\n",
    "#resources.head()\n",
    "total_sum = resources[['projectid','cost','item_quantity']].groupby('projectid',as_index=False).aggregate(np.sum)\n",
    "total_sum['avg_cost'] = total_sum['cost']/total_sum['item_quantity']\n",
    "resource_df = df[['projectid','students_reached']]\n",
    "resource_df = pd.merge(resource_df, total_sum, how='left', on='projectid')\n",
    "print(df.shape)"
   ]
  },
  {
   "cell_type": "code",
   "execution_count": 38,
   "metadata": {
    "collapsed": false
   },
   "outputs": [
    {
     "name": "stdout",
     "output_type": "stream",
     "text": [
      "(467620, 11)\n"
     ]
    }
   ],
   "source": [
    "for var in resources['project_resource_type'].unique()[0:6]:\n",
    "    tmp = resources[(resources['project_resource_type']==var)]\n",
    "    tmp_sum= tmp[['projectid','cost']].groupby('projectid',as_index=False).aggregate(np.sum)\n",
    "    tmp_sum.rename(columns={'cost': \"\".join(var+'_cost')}, inplace=True)\n",
    "    resource_df = pd.merge(resource_df,tmp_sum,how='left',on ='projectid')\n",
    "    resource_df[\"\".join(var+'_cost')].fillna(0,inplace=True)\n",
    "print(resource_df.shape)"
   ]
  },
  {
   "cell_type": "code",
   "execution_count": 39,
   "metadata": {
    "collapsed": true
   },
   "outputs": [],
   "source": [
    "resource_df['price_per_student'] = resource_df['cost']/resource_df['students_reached']\n",
    "resource_df.to_csv('resource_data.csv')"
   ]
  },
  {
   "cell_type": "code",
   "execution_count": 40,
   "metadata": {
    "collapsed": false
   },
   "outputs": [],
   "source": [
    "essays = pd.read_csv('./data/essays.csv')\n",
    "essays.fillna(\"\",inplace=True)\n",
    "essays['essay_length'] = essays['essay'].str.len()\n",
    "essays['title_length'] = essays['title'].str.len()\n",
    "essay_data = pd.merge(ids,essays[['projectid','essay_length','title_length']],on='projectid',how='left')"
   ]
  },
  {
   "cell_type": "code",
   "execution_count": 41,
   "metadata": {
    "collapsed": false
   },
   "outputs": [],
   "source": [
    "essay_data.fillna(method='pad',inplace=True)\n",
    "essay_data.to_csv('essay_data.csv')"
   ]
  }
 ],
 "metadata": {
  "kernelspec": {
   "display_name": "Python 3",
   "language": "python",
   "name": "python3"
  },
  "language_info": {
   "codemirror_mode": {
    "name": "ipython",
    "version": 3
   },
   "file_extension": ".py",
   "mimetype": "text/x-python",
   "name": "python",
   "nbconvert_exporter": "python",
   "pygments_lexer": "ipython3",
   "version": "3.5.1"
  }
 },
 "nbformat": 4,
 "nbformat_minor": 0
}
